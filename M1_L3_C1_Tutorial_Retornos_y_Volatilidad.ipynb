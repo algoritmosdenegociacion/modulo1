{
  "nbformat": 4,
  "nbformat_minor": 0,
  "metadata": {
    "colab": {
      "name": "M1_L3_C1 - Tutorial Retornos y Volatilidad.ipynb",
      "provenance": [],
      "collapsed_sections": [],
      "include_colab_link": true
    },
    "kernelspec": {
      "name": "python3",
      "display_name": "Python 3"
    },
    "language_info": {
      "name": "python"
    }
  },
  "cells": [
    {
      "cell_type": "markdown",
      "metadata": {
        "id": "view-in-github",
        "colab_type": "text"
      },
      "source": [
        "<a href=\"https://colab.research.google.com/github/algoritmosdenegociacion/modulo1/blob/main/M1_L3_C1_Tutorial_Retornos_y_Volatilidad.ipynb\" target=\"_parent\"><img src=\"https://colab.research.google.com/assets/colab-badge.svg\" alt=\"Open In Colab\"/></a>"
      ]
    },
    {
      "cell_type": "markdown",
      "metadata": {
        "id": "Mv3-tparkVRq"
      },
      "source": [
        "# Algoritmos de Negociación basados en Machine Learning - Módulo 1\n",
        "- Sergio Andrés Cabrales, Ph.D., Universidad de los Andes \n",
        "- Juan Pablo Cortés, T.A., Universidad de los Andes\n",
        "\n",
        "https://github.com/algoritmosdenegociacion/"
      ]
    },
    {
      "cell_type": "markdown",
      "metadata": {
        "id": "gCCL_oJ7iKoo"
      },
      "source": [
        "## 1. Carga de librerías, funciones y APIs necesarias."
      ]
    },
    {
      "cell_type": "markdown",
      "metadata": {
        "id": "uIIxggNkivdG"
      },
      "source": [
        "#### 1.1. Instalan las librerías que no incluye Google Colab"
      ]
    },
    {
      "cell_type": "code",
      "metadata": {
        "id": "9TQ--VKpVEap",
        "colab": {
          "base_uri": "https://localhost:8080/"
        },
        "outputId": "9fbb47bb-a304-4c89-d683-e1b01536b567"
      },
      "source": [
        "pip install yfinance"
      ],
      "execution_count": null,
      "outputs": [
        {
          "output_type": "stream",
          "text": [
            "Requirement already satisfied: yfinance in /usr/local/lib/python3.7/dist-packages (0.1.63)\n",
            "Requirement already satisfied: lxml>=4.5.1 in /usr/local/lib/python3.7/dist-packages (from yfinance) (4.6.3)\n",
            "Requirement already satisfied: multitasking>=0.0.7 in /usr/local/lib/python3.7/dist-packages (from yfinance) (0.0.9)\n",
            "Requirement already satisfied: pandas>=0.24 in /usr/local/lib/python3.7/dist-packages (from yfinance) (1.1.5)\n",
            "Requirement already satisfied: requests>=2.20 in /usr/local/lib/python3.7/dist-packages (from yfinance) (2.23.0)\n",
            "Requirement already satisfied: numpy>=1.15 in /usr/local/lib/python3.7/dist-packages (from yfinance) (1.19.5)\n",
            "Requirement already satisfied: pytz>=2017.2 in /usr/local/lib/python3.7/dist-packages (from pandas>=0.24->yfinance) (2018.9)\n",
            "Requirement already satisfied: python-dateutil>=2.7.3 in /usr/local/lib/python3.7/dist-packages (from pandas>=0.24->yfinance) (2.8.1)\n",
            "Requirement already satisfied: idna<3,>=2.5 in /usr/local/lib/python3.7/dist-packages (from requests>=2.20->yfinance) (2.10)\n",
            "Requirement already satisfied: chardet<4,>=3.0.2 in /usr/local/lib/python3.7/dist-packages (from requests>=2.20->yfinance) (3.0.4)\n",
            "Requirement already satisfied: certifi>=2017.4.17 in /usr/local/lib/python3.7/dist-packages (from requests>=2.20->yfinance) (2021.5.30)\n",
            "Requirement already satisfied: urllib3!=1.25.0,!=1.25.1,<1.26,>=1.21.1 in /usr/local/lib/python3.7/dist-packages (from requests>=2.20->yfinance) (1.24.3)\n",
            "Requirement already satisfied: six>=1.5 in /usr/local/lib/python3.7/dist-packages (from python-dateutil>=2.7.3->pandas>=0.24->yfinance) (1.15.0)\n"
          ],
          "name": "stdout"
        }
      ]
    },
    {
      "cell_type": "markdown",
      "metadata": {
        "id": "T9-8grYyiuTA"
      },
      "source": [
        "#### 1.2. Se cargan las librerías necesarias"
      ]
    },
    {
      "cell_type": "code",
      "metadata": {
        "id": "FkdQfx7Vf2vt"
      },
      "source": [
        "# Funciones numéricas adicionales\n",
        "import numpy as np\n",
        "\n",
        "# Lectura de datos y manejo de Data-sets\n",
        "import pandas as pd\n",
        "\n",
        "# Datos\n",
        "import yfinance as yfin\n",
        "\n",
        "# Gráficos \n",
        "import matplotlib.pyplot as plt"
      ],
      "execution_count": null,
      "outputs": []
    },
    {
      "cell_type": "markdown",
      "metadata": {
        "id": "VdKMQ8c7kBN6"
      },
      "source": [
        "## 2. Obtención de datos históricos"
      ]
    },
    {
      "cell_type": "markdown",
      "metadata": {
        "id": "PE07DKc4LYls"
      },
      "source": [
        "#### 2.1. Descarga de datos desde Yahoo Finance"
      ]
    },
    {
      "cell_type": "markdown",
      "metadata": {
        "id": "AZLxWhOzYKu6"
      },
      "source": [
        "https://finance.yahoo.com/\n"
      ]
    },
    {
      "cell_type": "code",
      "metadata": {
        "colab": {
          "base_uri": "https://localhost:8080/",
          "height": 467
        },
        "id": "5TiGc5x8LGpb",
        "outputId": "1ee56daf-545b-4497-f9e5-59d77c9da9bd"
      },
      "source": [
        "# Descargamos datos de 2 años de la acción de Apple.\n",
        "df = yfin.download('AAPL', data_source='yahoo', start='2019-01-01', end='2021-01-01')\n",
        "df"
      ],
      "execution_count": null,
      "outputs": [
        {
          "output_type": "stream",
          "text": [
            "\r[*********************100%***********************]  1 of 1 completed\n"
          ],
          "name": "stdout"
        },
        {
          "output_type": "execute_result",
          "data": {
            "text/html": [
              "<div>\n",
              "<style scoped>\n",
              "    .dataframe tbody tr th:only-of-type {\n",
              "        vertical-align: middle;\n",
              "    }\n",
              "\n",
              "    .dataframe tbody tr th {\n",
              "        vertical-align: top;\n",
              "    }\n",
              "\n",
              "    .dataframe thead th {\n",
              "        text-align: right;\n",
              "    }\n",
              "</style>\n",
              "<table border=\"1\" class=\"dataframe\">\n",
              "  <thead>\n",
              "    <tr style=\"text-align: right;\">\n",
              "      <th></th>\n",
              "      <th>Open</th>\n",
              "      <th>High</th>\n",
              "      <th>Low</th>\n",
              "      <th>Close</th>\n",
              "      <th>Adj Close</th>\n",
              "      <th>Volume</th>\n",
              "    </tr>\n",
              "    <tr>\n",
              "      <th>Date</th>\n",
              "      <th></th>\n",
              "      <th></th>\n",
              "      <th></th>\n",
              "      <th></th>\n",
              "      <th></th>\n",
              "      <th></th>\n",
              "    </tr>\n",
              "  </thead>\n",
              "  <tbody>\n",
              "    <tr>\n",
              "      <th>2019-01-02</th>\n",
              "      <td>38.722500</td>\n",
              "      <td>39.712502</td>\n",
              "      <td>38.557499</td>\n",
              "      <td>39.480000</td>\n",
              "      <td>38.439735</td>\n",
              "      <td>148158800</td>\n",
              "    </tr>\n",
              "    <tr>\n",
              "      <th>2019-01-03</th>\n",
              "      <td>35.994999</td>\n",
              "      <td>36.430000</td>\n",
              "      <td>35.500000</td>\n",
              "      <td>35.547501</td>\n",
              "      <td>34.610851</td>\n",
              "      <td>365248800</td>\n",
              "    </tr>\n",
              "    <tr>\n",
              "      <th>2019-01-04</th>\n",
              "      <td>36.132500</td>\n",
              "      <td>37.137501</td>\n",
              "      <td>35.950001</td>\n",
              "      <td>37.064999</td>\n",
              "      <td>36.088364</td>\n",
              "      <td>234428400</td>\n",
              "    </tr>\n",
              "    <tr>\n",
              "      <th>2019-01-07</th>\n",
              "      <td>37.174999</td>\n",
              "      <td>37.207500</td>\n",
              "      <td>36.474998</td>\n",
              "      <td>36.982498</td>\n",
              "      <td>36.008041</td>\n",
              "      <td>219111200</td>\n",
              "    </tr>\n",
              "    <tr>\n",
              "      <th>2019-01-08</th>\n",
              "      <td>37.389999</td>\n",
              "      <td>37.955002</td>\n",
              "      <td>37.130001</td>\n",
              "      <td>37.687500</td>\n",
              "      <td>36.694466</td>\n",
              "      <td>164101200</td>\n",
              "    </tr>\n",
              "    <tr>\n",
              "      <th>...</th>\n",
              "      <td>...</td>\n",
              "      <td>...</td>\n",
              "      <td>...</td>\n",
              "      <td>...</td>\n",
              "      <td>...</td>\n",
              "      <td>...</td>\n",
              "    </tr>\n",
              "    <tr>\n",
              "      <th>2020-12-24</th>\n",
              "      <td>131.320007</td>\n",
              "      <td>133.460007</td>\n",
              "      <td>131.100006</td>\n",
              "      <td>131.970001</td>\n",
              "      <td>131.549637</td>\n",
              "      <td>54930100</td>\n",
              "    </tr>\n",
              "    <tr>\n",
              "      <th>2020-12-28</th>\n",
              "      <td>133.990005</td>\n",
              "      <td>137.339996</td>\n",
              "      <td>133.509995</td>\n",
              "      <td>136.690002</td>\n",
              "      <td>136.254608</td>\n",
              "      <td>124486200</td>\n",
              "    </tr>\n",
              "    <tr>\n",
              "      <th>2020-12-29</th>\n",
              "      <td>138.050003</td>\n",
              "      <td>138.789993</td>\n",
              "      <td>134.339996</td>\n",
              "      <td>134.869995</td>\n",
              "      <td>134.440399</td>\n",
              "      <td>121047300</td>\n",
              "    </tr>\n",
              "    <tr>\n",
              "      <th>2020-12-30</th>\n",
              "      <td>135.580002</td>\n",
              "      <td>135.990005</td>\n",
              "      <td>133.399994</td>\n",
              "      <td>133.720001</td>\n",
              "      <td>133.294067</td>\n",
              "      <td>96452100</td>\n",
              "    </tr>\n",
              "    <tr>\n",
              "      <th>2020-12-31</th>\n",
              "      <td>134.080002</td>\n",
              "      <td>134.740005</td>\n",
              "      <td>131.720001</td>\n",
              "      <td>132.690002</td>\n",
              "      <td>132.267349</td>\n",
              "      <td>99116600</td>\n",
              "    </tr>\n",
              "  </tbody>\n",
              "</table>\n",
              "<p>505 rows × 6 columns</p>\n",
              "</div>"
            ],
            "text/plain": [
              "                  Open        High  ...   Adj Close     Volume\n",
              "Date                                ...                       \n",
              "2019-01-02   38.722500   39.712502  ...   38.439735  148158800\n",
              "2019-01-03   35.994999   36.430000  ...   34.610851  365248800\n",
              "2019-01-04   36.132500   37.137501  ...   36.088364  234428400\n",
              "2019-01-07   37.174999   37.207500  ...   36.008041  219111200\n",
              "2019-01-08   37.389999   37.955002  ...   36.694466  164101200\n",
              "...                ...         ...  ...         ...        ...\n",
              "2020-12-24  131.320007  133.460007  ...  131.549637   54930100\n",
              "2020-12-28  133.990005  137.339996  ...  136.254608  124486200\n",
              "2020-12-29  138.050003  138.789993  ...  134.440399  121047300\n",
              "2020-12-30  135.580002  135.990005  ...  133.294067   96452100\n",
              "2020-12-31  134.080002  134.740005  ...  132.267349   99116600\n",
              "\n",
              "[505 rows x 6 columns]"
            ]
          },
          "metadata": {
            "tags": []
          },
          "execution_count": 93
        }
      ]
    },
    {
      "cell_type": "markdown",
      "metadata": {
        "id": "BrSlc5Bth0lq"
      },
      "source": [
        "## 3. Retornos"
      ]
    },
    {
      "cell_type": "markdown",
      "metadata": {
        "id": "zW7eTSFmiJkk"
      },
      "source": [
        "#### 3.1. Retornos Aritméticos"
      ]
    },
    {
      "cell_type": "markdown",
      "metadata": {
        "id": "-RhO7psAlnIj"
      },
      "source": [
        "Si $S_t$ es el precio del activo en el periodo $t$, los retornos aritméticos se calculan como:\n",
        "\n",
        "$$\n",
        "r_t=\\frac{S_t-S_{t-1}}{S_{t-1}}=\\frac{S_t}{S_{t-1}}-1\n",
        "$$\n"
      ]
    },
    {
      "cell_type": "code",
      "metadata": {
        "colab": {
          "base_uri": "https://localhost:8080/",
          "height": 450
        },
        "id": "kRcIbGWAkmQf",
        "outputId": "44e8611a-016a-4432-c83a-390517c19084"
      },
      "source": [
        "# Primero, almacenamos en una columna adicional los precios del día anterior en cada fila.\n",
        "# Nótese que para el primer día no existe día anterior (NaN).\n",
        "df['Adj Close t-1'] = df['Adj Close'].shift(1)\n",
        "df"
      ],
      "execution_count": null,
      "outputs": [
        {
          "output_type": "execute_result",
          "data": {
            "text/html": [
              "<div>\n",
              "<style scoped>\n",
              "    .dataframe tbody tr th:only-of-type {\n",
              "        vertical-align: middle;\n",
              "    }\n",
              "\n",
              "    .dataframe tbody tr th {\n",
              "        vertical-align: top;\n",
              "    }\n",
              "\n",
              "    .dataframe thead th {\n",
              "        text-align: right;\n",
              "    }\n",
              "</style>\n",
              "<table border=\"1\" class=\"dataframe\">\n",
              "  <thead>\n",
              "    <tr style=\"text-align: right;\">\n",
              "      <th></th>\n",
              "      <th>Open</th>\n",
              "      <th>High</th>\n",
              "      <th>Low</th>\n",
              "      <th>Close</th>\n",
              "      <th>Adj Close</th>\n",
              "      <th>Volume</th>\n",
              "      <th>Adj Close t-1</th>\n",
              "    </tr>\n",
              "    <tr>\n",
              "      <th>Date</th>\n",
              "      <th></th>\n",
              "      <th></th>\n",
              "      <th></th>\n",
              "      <th></th>\n",
              "      <th></th>\n",
              "      <th></th>\n",
              "      <th></th>\n",
              "    </tr>\n",
              "  </thead>\n",
              "  <tbody>\n",
              "    <tr>\n",
              "      <th>2019-01-02</th>\n",
              "      <td>38.722500</td>\n",
              "      <td>39.712502</td>\n",
              "      <td>38.557499</td>\n",
              "      <td>39.480000</td>\n",
              "      <td>38.439735</td>\n",
              "      <td>148158800</td>\n",
              "      <td>NaN</td>\n",
              "    </tr>\n",
              "    <tr>\n",
              "      <th>2019-01-03</th>\n",
              "      <td>35.994999</td>\n",
              "      <td>36.430000</td>\n",
              "      <td>35.500000</td>\n",
              "      <td>35.547501</td>\n",
              "      <td>34.610851</td>\n",
              "      <td>365248800</td>\n",
              "      <td>38.439735</td>\n",
              "    </tr>\n",
              "    <tr>\n",
              "      <th>2019-01-04</th>\n",
              "      <td>36.132500</td>\n",
              "      <td>37.137501</td>\n",
              "      <td>35.950001</td>\n",
              "      <td>37.064999</td>\n",
              "      <td>36.088364</td>\n",
              "      <td>234428400</td>\n",
              "      <td>34.610851</td>\n",
              "    </tr>\n",
              "    <tr>\n",
              "      <th>2019-01-07</th>\n",
              "      <td>37.174999</td>\n",
              "      <td>37.207500</td>\n",
              "      <td>36.474998</td>\n",
              "      <td>36.982498</td>\n",
              "      <td>36.008041</td>\n",
              "      <td>219111200</td>\n",
              "      <td>36.088364</td>\n",
              "    </tr>\n",
              "    <tr>\n",
              "      <th>2019-01-08</th>\n",
              "      <td>37.389999</td>\n",
              "      <td>37.955002</td>\n",
              "      <td>37.130001</td>\n",
              "      <td>37.687500</td>\n",
              "      <td>36.694466</td>\n",
              "      <td>164101200</td>\n",
              "      <td>36.008041</td>\n",
              "    </tr>\n",
              "    <tr>\n",
              "      <th>...</th>\n",
              "      <td>...</td>\n",
              "      <td>...</td>\n",
              "      <td>...</td>\n",
              "      <td>...</td>\n",
              "      <td>...</td>\n",
              "      <td>...</td>\n",
              "      <td>...</td>\n",
              "    </tr>\n",
              "    <tr>\n",
              "      <th>2020-12-24</th>\n",
              "      <td>131.320007</td>\n",
              "      <td>133.460007</td>\n",
              "      <td>131.100006</td>\n",
              "      <td>131.970001</td>\n",
              "      <td>131.549637</td>\n",
              "      <td>54930100</td>\n",
              "      <td>130.542862</td>\n",
              "    </tr>\n",
              "    <tr>\n",
              "      <th>2020-12-28</th>\n",
              "      <td>133.990005</td>\n",
              "      <td>137.339996</td>\n",
              "      <td>133.509995</td>\n",
              "      <td>136.690002</td>\n",
              "      <td>136.254608</td>\n",
              "      <td>124486200</td>\n",
              "      <td>131.549637</td>\n",
              "    </tr>\n",
              "    <tr>\n",
              "      <th>2020-12-29</th>\n",
              "      <td>138.050003</td>\n",
              "      <td>138.789993</td>\n",
              "      <td>134.339996</td>\n",
              "      <td>134.869995</td>\n",
              "      <td>134.440399</td>\n",
              "      <td>121047300</td>\n",
              "      <td>136.254608</td>\n",
              "    </tr>\n",
              "    <tr>\n",
              "      <th>2020-12-30</th>\n",
              "      <td>135.580002</td>\n",
              "      <td>135.990005</td>\n",
              "      <td>133.399994</td>\n",
              "      <td>133.720001</td>\n",
              "      <td>133.294067</td>\n",
              "      <td>96452100</td>\n",
              "      <td>134.440399</td>\n",
              "    </tr>\n",
              "    <tr>\n",
              "      <th>2020-12-31</th>\n",
              "      <td>134.080002</td>\n",
              "      <td>134.740005</td>\n",
              "      <td>131.720001</td>\n",
              "      <td>132.690002</td>\n",
              "      <td>132.267349</td>\n",
              "      <td>99116600</td>\n",
              "      <td>133.294067</td>\n",
              "    </tr>\n",
              "  </tbody>\n",
              "</table>\n",
              "<p>505 rows × 7 columns</p>\n",
              "</div>"
            ],
            "text/plain": [
              "                  Open        High  ...     Volume  Adj Close t-1\n",
              "Date                                ...                          \n",
              "2019-01-02   38.722500   39.712502  ...  148158800            NaN\n",
              "2019-01-03   35.994999   36.430000  ...  365248800      38.439735\n",
              "2019-01-04   36.132500   37.137501  ...  234428400      34.610851\n",
              "2019-01-07   37.174999   37.207500  ...  219111200      36.088364\n",
              "2019-01-08   37.389999   37.955002  ...  164101200      36.008041\n",
              "...                ...         ...  ...        ...            ...\n",
              "2020-12-24  131.320007  133.460007  ...   54930100     130.542862\n",
              "2020-12-28  133.990005  137.339996  ...  124486200     131.549637\n",
              "2020-12-29  138.050003  138.789993  ...  121047300     136.254608\n",
              "2020-12-30  135.580002  135.990005  ...   96452100     134.440399\n",
              "2020-12-31  134.080002  134.740005  ...   99116600     133.294067\n",
              "\n",
              "[505 rows x 7 columns]"
            ]
          },
          "metadata": {
            "tags": []
          },
          "execution_count": 94
        }
      ]
    },
    {
      "cell_type": "code",
      "metadata": {
        "colab": {
          "base_uri": "https://localhost:8080/",
          "height": 450
        },
        "id": "7ERtv6AkhxEw",
        "outputId": "3b4cdf53-6dde-4abc-8b89-e663d2761a31"
      },
      "source": [
        "# Ahora guardamos los retornos aritméticos en una nueva columna.\n",
        "# Nuevamente no tenemos retorno para el día 1.\n",
        "df['Returns'] = df['Adj Close']/df['Adj Close t-1'] - 1\n",
        "df"
      ],
      "execution_count": null,
      "outputs": [
        {
          "output_type": "execute_result",
          "data": {
            "text/html": [
              "<div>\n",
              "<style scoped>\n",
              "    .dataframe tbody tr th:only-of-type {\n",
              "        vertical-align: middle;\n",
              "    }\n",
              "\n",
              "    .dataframe tbody tr th {\n",
              "        vertical-align: top;\n",
              "    }\n",
              "\n",
              "    .dataframe thead th {\n",
              "        text-align: right;\n",
              "    }\n",
              "</style>\n",
              "<table border=\"1\" class=\"dataframe\">\n",
              "  <thead>\n",
              "    <tr style=\"text-align: right;\">\n",
              "      <th></th>\n",
              "      <th>Open</th>\n",
              "      <th>High</th>\n",
              "      <th>Low</th>\n",
              "      <th>Close</th>\n",
              "      <th>Adj Close</th>\n",
              "      <th>Volume</th>\n",
              "      <th>Adj Close t-1</th>\n",
              "      <th>Returns</th>\n",
              "    </tr>\n",
              "    <tr>\n",
              "      <th>Date</th>\n",
              "      <th></th>\n",
              "      <th></th>\n",
              "      <th></th>\n",
              "      <th></th>\n",
              "      <th></th>\n",
              "      <th></th>\n",
              "      <th></th>\n",
              "      <th></th>\n",
              "    </tr>\n",
              "  </thead>\n",
              "  <tbody>\n",
              "    <tr>\n",
              "      <th>2019-01-02</th>\n",
              "      <td>38.722500</td>\n",
              "      <td>39.712502</td>\n",
              "      <td>38.557499</td>\n",
              "      <td>39.480000</td>\n",
              "      <td>38.439735</td>\n",
              "      <td>148158800</td>\n",
              "      <td>NaN</td>\n",
              "      <td>NaN</td>\n",
              "    </tr>\n",
              "    <tr>\n",
              "      <th>2019-01-03</th>\n",
              "      <td>35.994999</td>\n",
              "      <td>36.430000</td>\n",
              "      <td>35.500000</td>\n",
              "      <td>35.547501</td>\n",
              "      <td>34.610851</td>\n",
              "      <td>365248800</td>\n",
              "      <td>38.439735</td>\n",
              "      <td>-0.099607</td>\n",
              "    </tr>\n",
              "    <tr>\n",
              "      <th>2019-01-04</th>\n",
              "      <td>36.132500</td>\n",
              "      <td>37.137501</td>\n",
              "      <td>35.950001</td>\n",
              "      <td>37.064999</td>\n",
              "      <td>36.088364</td>\n",
              "      <td>234428400</td>\n",
              "      <td>34.610851</td>\n",
              "      <td>0.042689</td>\n",
              "    </tr>\n",
              "    <tr>\n",
              "      <th>2019-01-07</th>\n",
              "      <td>37.174999</td>\n",
              "      <td>37.207500</td>\n",
              "      <td>36.474998</td>\n",
              "      <td>36.982498</td>\n",
              "      <td>36.008041</td>\n",
              "      <td>219111200</td>\n",
              "      <td>36.088364</td>\n",
              "      <td>-0.002226</td>\n",
              "    </tr>\n",
              "    <tr>\n",
              "      <th>2019-01-08</th>\n",
              "      <td>37.389999</td>\n",
              "      <td>37.955002</td>\n",
              "      <td>37.130001</td>\n",
              "      <td>37.687500</td>\n",
              "      <td>36.694466</td>\n",
              "      <td>164101200</td>\n",
              "      <td>36.008041</td>\n",
              "      <td>0.019063</td>\n",
              "    </tr>\n",
              "    <tr>\n",
              "      <th>...</th>\n",
              "      <td>...</td>\n",
              "      <td>...</td>\n",
              "      <td>...</td>\n",
              "      <td>...</td>\n",
              "      <td>...</td>\n",
              "      <td>...</td>\n",
              "      <td>...</td>\n",
              "      <td>...</td>\n",
              "    </tr>\n",
              "    <tr>\n",
              "      <th>2020-12-24</th>\n",
              "      <td>131.320007</td>\n",
              "      <td>133.460007</td>\n",
              "      <td>131.100006</td>\n",
              "      <td>131.970001</td>\n",
              "      <td>131.549637</td>\n",
              "      <td>54930100</td>\n",
              "      <td>130.542862</td>\n",
              "      <td>0.007712</td>\n",
              "    </tr>\n",
              "    <tr>\n",
              "      <th>2020-12-28</th>\n",
              "      <td>133.990005</td>\n",
              "      <td>137.339996</td>\n",
              "      <td>133.509995</td>\n",
              "      <td>136.690002</td>\n",
              "      <td>136.254608</td>\n",
              "      <td>124486200</td>\n",
              "      <td>131.549637</td>\n",
              "      <td>0.035766</td>\n",
              "    </tr>\n",
              "    <tr>\n",
              "      <th>2020-12-29</th>\n",
              "      <td>138.050003</td>\n",
              "      <td>138.789993</td>\n",
              "      <td>134.339996</td>\n",
              "      <td>134.869995</td>\n",
              "      <td>134.440399</td>\n",
              "      <td>121047300</td>\n",
              "      <td>136.254608</td>\n",
              "      <td>-0.013315</td>\n",
              "    </tr>\n",
              "    <tr>\n",
              "      <th>2020-12-30</th>\n",
              "      <td>135.580002</td>\n",
              "      <td>135.990005</td>\n",
              "      <td>133.399994</td>\n",
              "      <td>133.720001</td>\n",
              "      <td>133.294067</td>\n",
              "      <td>96452100</td>\n",
              "      <td>134.440399</td>\n",
              "      <td>-0.008527</td>\n",
              "    </tr>\n",
              "    <tr>\n",
              "      <th>2020-12-31</th>\n",
              "      <td>134.080002</td>\n",
              "      <td>134.740005</td>\n",
              "      <td>131.720001</td>\n",
              "      <td>132.690002</td>\n",
              "      <td>132.267349</td>\n",
              "      <td>99116600</td>\n",
              "      <td>133.294067</td>\n",
              "      <td>-0.007703</td>\n",
              "    </tr>\n",
              "  </tbody>\n",
              "</table>\n",
              "<p>505 rows × 8 columns</p>\n",
              "</div>"
            ],
            "text/plain": [
              "                  Open        High  ...  Adj Close t-1   Returns\n",
              "Date                                ...                         \n",
              "2019-01-02   38.722500   39.712502  ...            NaN       NaN\n",
              "2019-01-03   35.994999   36.430000  ...      38.439735 -0.099607\n",
              "2019-01-04   36.132500   37.137501  ...      34.610851  0.042689\n",
              "2019-01-07   37.174999   37.207500  ...      36.088364 -0.002226\n",
              "2019-01-08   37.389999   37.955002  ...      36.008041  0.019063\n",
              "...                ...         ...  ...            ...       ...\n",
              "2020-12-24  131.320007  133.460007  ...     130.542862  0.007712\n",
              "2020-12-28  133.990005  137.339996  ...     131.549637  0.035766\n",
              "2020-12-29  138.050003  138.789993  ...     136.254608 -0.013315\n",
              "2020-12-30  135.580002  135.990005  ...     134.440399 -0.008527\n",
              "2020-12-31  134.080002  134.740005  ...     133.294067 -0.007703\n",
              "\n",
              "[505 rows x 8 columns]"
            ]
          },
          "metadata": {
            "tags": []
          },
          "execution_count": 95
        }
      ]
    },
    {
      "cell_type": "markdown",
      "metadata": {
        "id": "RMb86TV_laR4"
      },
      "source": [
        "#### 3.2. Retornos Logarítmicos"
      ]
    },
    {
      "cell_type": "markdown",
      "metadata": {
        "id": "sll8wFDkljd4"
      },
      "source": [
        "Los retornos logarítmicos se calculan como:\n",
        "$$\n",
        "r_{t} = ln \\left( \\frac{S_t}{S_{t-1}} \\right ) = ln \\left( S_{t} \\right) - ln \\left( S_{t-1} \\right)\n",
        "$$\n"
      ]
    },
    {
      "cell_type": "code",
      "metadata": {
        "colab": {
          "base_uri": "https://localhost:8080/",
          "height": 450
        },
        "id": "i5FaMRvdklk1",
        "outputId": "d6fcbcfe-1108-48d0-8689-4165eaf9ba45"
      },
      "source": [
        "# Guardamos los retornos logaritmicos en una nueva columna.\n",
        "df['Log Returns'] = np.log(df['Adj Close']) - np.log(df['Adj Close t-1'])\n",
        "df"
      ],
      "execution_count": null,
      "outputs": [
        {
          "output_type": "execute_result",
          "data": {
            "text/html": [
              "<div>\n",
              "<style scoped>\n",
              "    .dataframe tbody tr th:only-of-type {\n",
              "        vertical-align: middle;\n",
              "    }\n",
              "\n",
              "    .dataframe tbody tr th {\n",
              "        vertical-align: top;\n",
              "    }\n",
              "\n",
              "    .dataframe thead th {\n",
              "        text-align: right;\n",
              "    }\n",
              "</style>\n",
              "<table border=\"1\" class=\"dataframe\">\n",
              "  <thead>\n",
              "    <tr style=\"text-align: right;\">\n",
              "      <th></th>\n",
              "      <th>Open</th>\n",
              "      <th>High</th>\n",
              "      <th>Low</th>\n",
              "      <th>Close</th>\n",
              "      <th>Adj Close</th>\n",
              "      <th>Volume</th>\n",
              "      <th>Adj Close t-1</th>\n",
              "      <th>Returns</th>\n",
              "      <th>Log Returns</th>\n",
              "    </tr>\n",
              "    <tr>\n",
              "      <th>Date</th>\n",
              "      <th></th>\n",
              "      <th></th>\n",
              "      <th></th>\n",
              "      <th></th>\n",
              "      <th></th>\n",
              "      <th></th>\n",
              "      <th></th>\n",
              "      <th></th>\n",
              "      <th></th>\n",
              "    </tr>\n",
              "  </thead>\n",
              "  <tbody>\n",
              "    <tr>\n",
              "      <th>2019-01-02</th>\n",
              "      <td>38.722500</td>\n",
              "      <td>39.712502</td>\n",
              "      <td>38.557499</td>\n",
              "      <td>39.480000</td>\n",
              "      <td>38.439735</td>\n",
              "      <td>148158800</td>\n",
              "      <td>NaN</td>\n",
              "      <td>NaN</td>\n",
              "      <td>NaN</td>\n",
              "    </tr>\n",
              "    <tr>\n",
              "      <th>2019-01-03</th>\n",
              "      <td>35.994999</td>\n",
              "      <td>36.430000</td>\n",
              "      <td>35.500000</td>\n",
              "      <td>35.547501</td>\n",
              "      <td>34.610851</td>\n",
              "      <td>365248800</td>\n",
              "      <td>38.439735</td>\n",
              "      <td>-0.099607</td>\n",
              "      <td>-0.104924</td>\n",
              "    </tr>\n",
              "    <tr>\n",
              "      <th>2019-01-04</th>\n",
              "      <td>36.132500</td>\n",
              "      <td>37.137501</td>\n",
              "      <td>35.950001</td>\n",
              "      <td>37.064999</td>\n",
              "      <td>36.088364</td>\n",
              "      <td>234428400</td>\n",
              "      <td>34.610851</td>\n",
              "      <td>0.042689</td>\n",
              "      <td>0.041803</td>\n",
              "    </tr>\n",
              "    <tr>\n",
              "      <th>2019-01-07</th>\n",
              "      <td>37.174999</td>\n",
              "      <td>37.207500</td>\n",
              "      <td>36.474998</td>\n",
              "      <td>36.982498</td>\n",
              "      <td>36.008041</td>\n",
              "      <td>219111200</td>\n",
              "      <td>36.088364</td>\n",
              "      <td>-0.002226</td>\n",
              "      <td>-0.002228</td>\n",
              "    </tr>\n",
              "    <tr>\n",
              "      <th>2019-01-08</th>\n",
              "      <td>37.389999</td>\n",
              "      <td>37.955002</td>\n",
              "      <td>37.130001</td>\n",
              "      <td>37.687500</td>\n",
              "      <td>36.694466</td>\n",
              "      <td>164101200</td>\n",
              "      <td>36.008041</td>\n",
              "      <td>0.019063</td>\n",
              "      <td>0.018884</td>\n",
              "    </tr>\n",
              "    <tr>\n",
              "      <th>...</th>\n",
              "      <td>...</td>\n",
              "      <td>...</td>\n",
              "      <td>...</td>\n",
              "      <td>...</td>\n",
              "      <td>...</td>\n",
              "      <td>...</td>\n",
              "      <td>...</td>\n",
              "      <td>...</td>\n",
              "      <td>...</td>\n",
              "    </tr>\n",
              "    <tr>\n",
              "      <th>2020-12-24</th>\n",
              "      <td>131.320007</td>\n",
              "      <td>133.460007</td>\n",
              "      <td>131.100006</td>\n",
              "      <td>131.970001</td>\n",
              "      <td>131.549637</td>\n",
              "      <td>54930100</td>\n",
              "      <td>130.542862</td>\n",
              "      <td>0.007712</td>\n",
              "      <td>0.007683</td>\n",
              "    </tr>\n",
              "    <tr>\n",
              "      <th>2020-12-28</th>\n",
              "      <td>133.990005</td>\n",
              "      <td>137.339996</td>\n",
              "      <td>133.509995</td>\n",
              "      <td>136.690002</td>\n",
              "      <td>136.254608</td>\n",
              "      <td>124486200</td>\n",
              "      <td>131.549637</td>\n",
              "      <td>0.035766</td>\n",
              "      <td>0.035141</td>\n",
              "    </tr>\n",
              "    <tr>\n",
              "      <th>2020-12-29</th>\n",
              "      <td>138.050003</td>\n",
              "      <td>138.789993</td>\n",
              "      <td>134.339996</td>\n",
              "      <td>134.869995</td>\n",
              "      <td>134.440399</td>\n",
              "      <td>121047300</td>\n",
              "      <td>136.254608</td>\n",
              "      <td>-0.013315</td>\n",
              "      <td>-0.013404</td>\n",
              "    </tr>\n",
              "    <tr>\n",
              "      <th>2020-12-30</th>\n",
              "      <td>135.580002</td>\n",
              "      <td>135.990005</td>\n",
              "      <td>133.399994</td>\n",
              "      <td>133.720001</td>\n",
              "      <td>133.294067</td>\n",
              "      <td>96452100</td>\n",
              "      <td>134.440399</td>\n",
              "      <td>-0.008527</td>\n",
              "      <td>-0.008563</td>\n",
              "    </tr>\n",
              "    <tr>\n",
              "      <th>2020-12-31</th>\n",
              "      <td>134.080002</td>\n",
              "      <td>134.740005</td>\n",
              "      <td>131.720001</td>\n",
              "      <td>132.690002</td>\n",
              "      <td>132.267349</td>\n",
              "      <td>99116600</td>\n",
              "      <td>133.294067</td>\n",
              "      <td>-0.007703</td>\n",
              "      <td>-0.007732</td>\n",
              "    </tr>\n",
              "  </tbody>\n",
              "</table>\n",
              "<p>505 rows × 9 columns</p>\n",
              "</div>"
            ],
            "text/plain": [
              "                  Open        High  ...   Returns  Log Returns\n",
              "Date                                ...                       \n",
              "2019-01-02   38.722500   39.712502  ...       NaN          NaN\n",
              "2019-01-03   35.994999   36.430000  ... -0.099607    -0.104924\n",
              "2019-01-04   36.132500   37.137501  ...  0.042689     0.041803\n",
              "2019-01-07   37.174999   37.207500  ... -0.002226    -0.002228\n",
              "2019-01-08   37.389999   37.955002  ...  0.019063     0.018884\n",
              "...                ...         ...  ...       ...          ...\n",
              "2020-12-24  131.320007  133.460007  ...  0.007712     0.007683\n",
              "2020-12-28  133.990005  137.339996  ...  0.035766     0.035141\n",
              "2020-12-29  138.050003  138.789993  ... -0.013315    -0.013404\n",
              "2020-12-30  135.580002  135.990005  ... -0.008527    -0.008563\n",
              "2020-12-31  134.080002  134.740005  ... -0.007703    -0.007732\n",
              "\n",
              "[505 rows x 9 columns]"
            ]
          },
          "metadata": {
            "tags": []
          },
          "execution_count": 96
        }
      ]
    },
    {
      "cell_type": "markdown",
      "metadata": {
        "id": "nd0TexeBs4Ve"
      },
      "source": [
        "#### 3.3. Estadísticas Descriptivas"
      ]
    },
    {
      "cell_type": "code",
      "metadata": {
        "colab": {
          "base_uri": "https://localhost:8080/",
          "height": 297
        },
        "id": "TuDvxPGss7t-",
        "outputId": "855efe23-800f-4cec-bea5-9191944c29f8"
      },
      "source": [
        "#Estadísticas basicas [# de datos, media, desv. estándar, mínimo, cuantiles, máximo]\n",
        "sts = df.describe()\n",
        "sts"
      ],
      "execution_count": null,
      "outputs": [
        {
          "output_type": "execute_result",
          "data": {
            "text/html": [
              "<div>\n",
              "<style scoped>\n",
              "    .dataframe tbody tr th:only-of-type {\n",
              "        vertical-align: middle;\n",
              "    }\n",
              "\n",
              "    .dataframe tbody tr th {\n",
              "        vertical-align: top;\n",
              "    }\n",
              "\n",
              "    .dataframe thead th {\n",
              "        text-align: right;\n",
              "    }\n",
              "</style>\n",
              "<table border=\"1\" class=\"dataframe\">\n",
              "  <thead>\n",
              "    <tr style=\"text-align: right;\">\n",
              "      <th></th>\n",
              "      <th>Open</th>\n",
              "      <th>High</th>\n",
              "      <th>Low</th>\n",
              "      <th>Close</th>\n",
              "      <th>Adj Close</th>\n",
              "      <th>Volume</th>\n",
              "      <th>Adj Close t-1</th>\n",
              "      <th>Returns</th>\n",
              "      <th>Log Returns</th>\n",
              "    </tr>\n",
              "  </thead>\n",
              "  <tbody>\n",
              "    <tr>\n",
              "      <th>count</th>\n",
              "      <td>505.000000</td>\n",
              "      <td>505.000000</td>\n",
              "      <td>505.000000</td>\n",
              "      <td>505.000000</td>\n",
              "      <td>505.000000</td>\n",
              "      <td>5.050000e+02</td>\n",
              "      <td>504.000000</td>\n",
              "      <td>504.000000</td>\n",
              "      <td>504.000000</td>\n",
              "    </tr>\n",
              "    <tr>\n",
              "      <th>mean</th>\n",
              "      <td>73.660342</td>\n",
              "      <td>74.603614</td>\n",
              "      <td>72.782277</td>\n",
              "      <td>73.748386</td>\n",
              "      <td>72.987477</td>\n",
              "      <td>1.348887e+08</td>\n",
              "      <td>72.869859</td>\n",
              "      <td>0.002739</td>\n",
              "      <td>0.002452</td>\n",
              "    </tr>\n",
              "    <tr>\n",
              "      <th>std</th>\n",
              "      <td>27.362346</td>\n",
              "      <td>27.759058</td>\n",
              "      <td>26.807426</td>\n",
              "      <td>27.280933</td>\n",
              "      <td>27.443539</td>\n",
              "      <td>6.236185e+07</td>\n",
              "      <td>27.343098</td>\n",
              "      <td>0.023831</td>\n",
              "      <td>0.023876</td>\n",
              "    </tr>\n",
              "    <tr>\n",
              "      <th>min</th>\n",
              "      <td>35.994999</td>\n",
              "      <td>36.430000</td>\n",
              "      <td>35.500000</td>\n",
              "      <td>35.547501</td>\n",
              "      <td>34.610851</td>\n",
              "      <td>4.544800e+07</td>\n",
              "      <td>34.610851</td>\n",
              "      <td>-0.128647</td>\n",
              "      <td>-0.137708</td>\n",
              "    </tr>\n",
              "    <tr>\n",
              "      <th>25%</th>\n",
              "      <td>50.790001</td>\n",
              "      <td>51.235001</td>\n",
              "      <td>50.407501</td>\n",
              "      <td>50.782501</td>\n",
              "      <td>49.872242</td>\n",
              "      <td>9.252240e+07</td>\n",
              "      <td>49.862916</td>\n",
              "      <td>-0.007326</td>\n",
              "      <td>-0.007352</td>\n",
              "    </tr>\n",
              "    <tr>\n",
              "      <th>50%</th>\n",
              "      <td>66.650002</td>\n",
              "      <td>67.500000</td>\n",
              "      <td>65.862503</td>\n",
              "      <td>66.730003</td>\n",
              "      <td>65.947929</td>\n",
              "      <td>1.186556e+08</td>\n",
              "      <td>65.933311</td>\n",
              "      <td>0.002643</td>\n",
              "      <td>0.002639</td>\n",
              "    </tr>\n",
              "    <tr>\n",
              "      <th>75%</th>\n",
              "      <td>91.279999</td>\n",
              "      <td>92.970001</td>\n",
              "      <td>90.910004</td>\n",
              "      <td>91.632500</td>\n",
              "      <td>91.019203</td>\n",
              "      <td>1.581300e+08</td>\n",
              "      <td>90.704451</td>\n",
              "      <td>0.013736</td>\n",
              "      <td>0.013643</td>\n",
              "    </tr>\n",
              "    <tr>\n",
              "      <th>max</th>\n",
              "      <td>138.050003</td>\n",
              "      <td>138.789993</td>\n",
              "      <td>134.339996</td>\n",
              "      <td>136.690002</td>\n",
              "      <td>136.254608</td>\n",
              "      <td>4.265100e+08</td>\n",
              "      <td>136.254608</td>\n",
              "      <td>0.119808</td>\n",
              "      <td>0.113157</td>\n",
              "    </tr>\n",
              "  </tbody>\n",
              "</table>\n",
              "</div>"
            ],
            "text/plain": [
              "             Open        High  ...     Returns  Log Returns\n",
              "count  505.000000  505.000000  ...  504.000000   504.000000\n",
              "mean    73.660342   74.603614  ...    0.002739     0.002452\n",
              "std     27.362346   27.759058  ...    0.023831     0.023876\n",
              "min     35.994999   36.430000  ...   -0.128647    -0.137708\n",
              "25%     50.790001   51.235001  ...   -0.007326    -0.007352\n",
              "50%     66.650002   67.500000  ...    0.002643     0.002639\n",
              "75%     91.279999   92.970001  ...    0.013736     0.013643\n",
              "max    138.050003  138.789993  ...    0.119808     0.113157\n",
              "\n",
              "[8 rows x 9 columns]"
            ]
          },
          "metadata": {
            "tags": []
          },
          "execution_count": 97
        }
      ]
    },
    {
      "cell_type": "markdown",
      "metadata": {
        "id": "K0v-UIEkGo6H"
      },
      "source": [
        "#### 3.4. Retornos Logarítmicos anualizados"
      ]
    },
    {
      "cell_type": "markdown",
      "metadata": {
        "id": "QrV9Okdk6vh_"
      },
      "source": [
        "Podemos calcular el log-retorno anual ($r$) como el número de días bursátiles (252 días) por el promedio del log-retorno diario:\n",
        "\n",
        "$$\n",
        "r = 252 \\bar{r_t} \n",
        "$$"
      ]
    },
    {
      "cell_type": "code",
      "metadata": {
        "colab": {
          "base_uri": "https://localhost:8080/"
        },
        "id": "PS7iM18-z4Rv",
        "outputId": "23930b54-ce8a-4cbe-b566-862b861570ac"
      },
      "source": [
        "# Podemos imprimir el retornos anual:\n",
        "r = 252*sts['Log Returns']['mean']\n",
        "print(\"Retorno anualizado: {:.2f} %\".format(100*r))"
      ],
      "execution_count": null,
      "outputs": [
        {
          "output_type": "stream",
          "text": [
            "Retorno anual: 61.79 %\n"
          ],
          "name": "stdout"
        }
      ]
    },
    {
      "cell_type": "markdown",
      "metadata": {
        "id": "ad8XLRu5oYdQ"
      },
      "source": [
        "#### 3.5. Gráfica de retornos\n",
        "- Podemos graficar los retornos igual que como graficamos los precios."
      ]
    },
    {
      "cell_type": "code",
      "metadata": {
        "colab": {
          "base_uri": "https://localhost:8080/",
          "height": 513
        },
        "id": "U2NT5E1whxCU",
        "outputId": "3b145162-06d8-4e94-9325-1bee5a12b71b"
      },
      "source": [
        "# Gráfico de los retornos logarítmicos\n",
        "plt.figure(figsize=(15,8))\n",
        "plt.plot(df['Log Returns'], color = 'red')\n",
        "plt.title('Retornos Logarítmicos de Apple [$AAPL]')\n",
        "plt.xlabel('Fecha')\n",
        "plt.show()"
      ],
      "execution_count": null,
      "outputs": [
        {
          "output_type": "display_data",
          "data": {
            "image/png": "[encoded data removed]",
            "text/plain": [
              "<Figure size 1080x576 with 1 Axes>"
            ]
          },
          "metadata": {
            "tags": [],
            "needs_background": "light"
          }
        }
      ]
    },
    {
      "cell_type": "markdown",
      "metadata": {
        "id": "_YNZ05Uruaal"
      },
      "source": [
        "### 4 Volatilidad"
      ]
    },
    {
      "cell_type": "markdown",
      "metadata": {
        "id": "mCTSB2mW-NKp"
      },
      "source": [
        "#### 4.1 Volatilidad diaria y anual"
      ]
    },
    {
      "cell_type": "markdown",
      "metadata": {
        "id": "LgA99BRMumGG"
      },
      "source": [
        "La volatilidad diaria del activo es la desviación estándar de sus retornos o la raíz de la varianza:  \n",
        "\n",
        "$$vol=desv(r)=\\sqrt{Var(r)}$$\n",
        "\n",
        "En finanzas, se utiliza con mayor frecuencia la volatilidad anualizada ($\\sigma$) en lugar de la volatilidad diaria. Teniendo en cuenta que en cada año hay 252 días bursátiles:\n",
        "\n",
        "$$ \\sigma^{2} = \\sum_{1}^{252} Var_{diaria}$$\n",
        "$$ \\sigma^{2} = 252 \\sigma_{diaria}^{2}$$\n",
        "\n",
        "Se saca la raíz cuadra a ambos lados para calcular la volatilidad:\n",
        "\n",
        "$$ \\sqrt{\\sigma^{2}} = \\sqrt{252 \\sigma_{diaria}^{2}}$$\n",
        "$$ \\sigma = \\sigma_{diaria} \\sqrt{252}$$\n"
      ]
    },
    {
      "cell_type": "code",
      "metadata": {
        "colab": {
          "base_uri": "https://localhost:8080/"
        },
        "id": "bDOMTuA4hxwN",
        "outputId": "78a22d0f-e64f-4911-f1b2-da39f500f0fd"
      },
      "source": [
        "# Calculamos la volatilidad diaria con los retornos logaritmicos.\n",
        "vol_d = np.std(df['Log Returns']) \n",
        "\n",
        "# Anualizamos la volatilidad diaria.\n",
        "vol_a = vol_d * np.sqrt(252)\n",
        "\n",
        "print(\"Volatilidad diaria: {:.4f} %\".format(100*vol_d))\n",
        "print(\"Volatilidad anualizada: {:.4f} %\".format(100*vol_a))"
      ],
      "execution_count": null,
      "outputs": [
        {
          "output_type": "stream",
          "text": [
            "Volatilidad diaria: 2.3853 %\n",
            "Volatilidad anualizada: 37.8647 %\n"
          ],
          "name": "stdout"
        }
      ]
    }
  ]
}