{
  "nbformat": 4,
  "nbformat_minor": 0,
  "metadata": {
    "colab": {
      "name": "M1-L3-S1 - Solucion ejercicio practico.ipynb",
      "provenance": [],
      "include_colab_link": true
    },
    "kernelspec": {
      "name": "python3",
      "display_name": "Python 3"
    },
    "language_info": {
      "name": "python"
    }
  },
  "cells": [
    {
      "cell_type": "markdown",
      "metadata": {
        "id": "view-in-github",
        "colab_type": "text"
      },
      "source": [
        "<a href=\"https://colab.research.google.com/github/algoritmosdenegociacion/modulo1/blob/main/M1_L3_S1_Solucion_ejercicio_practico.ipynb\" target=\"_parent\"><img src=\"https://colab.research.google.com/assets/colab-badge.svg\" alt=\"Open In Colab\"/></a>"
      ]
    },
    {
      "cell_type": "code",
      "metadata": {
        "id": "XmjK3JMEpdLi",
        "colab": {
          "base_uri": "https://localhost:8080/"
        },
        "outputId": "86106df6-fddb-4fb8-eeda-d760ad89f037"
      },
      "source": [
        "#instalar libreria\n",
        "!pip install yfinance "
      ],
      "execution_count": null,
      "outputs": [
        {
          "output_type": "stream",
          "text": [
            "Collecting yfinance\n",
            "  Downloading yfinance-0.1.63.tar.gz (26 kB)\n",
            "Requirement already satisfied: pandas>=0.24 in /usr/local/lib/python3.7/dist-packages (from yfinance) (1.1.5)\n",
            "Requirement already satisfied: numpy>=1.15 in /usr/local/lib/python3.7/dist-packages (from yfinance) (1.19.5)\n",
            "Requirement already satisfied: requests>=2.20 in /usr/local/lib/python3.7/dist-packages (from yfinance) (2.23.0)\n",
            "Requirement already satisfied: multitasking>=0.0.7 in /usr/local/lib/python3.7/dist-packages (from yfinance) (0.0.9)\n",
            "Collecting lxml>=4.5.1\n",
            "  Downloading lxml-4.6.3-cp37-cp37m-manylinux2014_x86_64.whl (6.3 MB)\n",
            "\u001b[K     |████████████████████████████████| 6.3 MB 8.0 MB/s \n",
            "\u001b[?25hRequirement already satisfied: pytz>=2017.2 in /usr/local/lib/python3.7/dist-packages (from pandas>=0.24->yfinance) (2018.9)\n",
            "Requirement already satisfied: python-dateutil>=2.7.3 in /usr/local/lib/python3.7/dist-packages (from pandas>=0.24->yfinance) (2.8.2)\n",
            "Requirement already satisfied: six>=1.5 in /usr/local/lib/python3.7/dist-packages (from python-dateutil>=2.7.3->pandas>=0.24->yfinance) (1.15.0)\n",
            "Requirement already satisfied: idna<3,>=2.5 in /usr/local/lib/python3.7/dist-packages (from requests>=2.20->yfinance) (2.10)\n",
            "Requirement already satisfied: chardet<4,>=3.0.2 in /usr/local/lib/python3.7/dist-packages (from requests>=2.20->yfinance) (3.0.4)\n",
            "Requirement already satisfied: certifi>=2017.4.17 in /usr/local/lib/python3.7/dist-packages (from requests>=2.20->yfinance) (2021.5.30)\n",
            "Requirement already satisfied: urllib3!=1.25.0,!=1.25.1,<1.26,>=1.21.1 in /usr/local/lib/python3.7/dist-packages (from requests>=2.20->yfinance) (1.24.3)\n",
            "Building wheels for collected packages: yfinance\n",
            "  Building wheel for yfinance (setup.py) ... \u001b[?25l\u001b[?25hdone\n",
            "  Created wheel for yfinance: filename=yfinance-0.1.63-py2.py3-none-any.whl size=23918 sha256=cb9b420162aeaed1848cc67d19c83a3bddd8f257e9c1806fb163ec1f1f0b591f\n",
            "  Stored in directory: /root/.cache/pip/wheels/fe/87/8b/7ec24486e001d3926537f5f7801f57a74d181be25b11157983\n",
            "Successfully built yfinance\n",
            "Installing collected packages: lxml, yfinance\n",
            "  Attempting uninstall: lxml\n",
            "    Found existing installation: lxml 4.2.6\n",
            "    Uninstalling lxml-4.2.6:\n",
            "      Successfully uninstalled lxml-4.2.6\n",
            "Successfully installed lxml-4.6.3 yfinance-0.1.63\n"
          ],
          "name": "stdout"
        }
      ]
    },
    {
      "cell_type": "code",
      "metadata": {
        "id": "7oz313VlozmN"
      },
      "source": [
        "#API Datos\n",
        "import yfinance as yfin\n",
        "\n",
        "#Manejo de tablas de datos\n",
        "import pandas as pd\n",
        "\n",
        "#operaciones matriciales\n",
        "import numpy as np\n",
        "\n",
        "#Manejo de archivos\n",
        "from google.colab import files\n",
        "\n",
        "#Gráficos\n",
        "import matplotlib.pyplot as plt"
      ],
      "execution_count": null,
      "outputs": []
    },
    {
      "cell_type": "code",
      "metadata": {
        "id": "byDsCbBpphmp",
        "colab": {
          "base_uri": "https://localhost:8080/",
          "height": 469
        },
        "outputId": "122a22f2-5697-49dd-db9e-d0f0ae2a8012"
      },
      "source": [
        "ticker = '^GSPC'\n",
        "sp = yfin.download(ticker, start='2015-01-01', end='2021-01-01')\n",
        "sp"
      ],
      "execution_count": null,
      "outputs": [
        {
          "output_type": "stream",
          "text": [
            "\r[*********************100%***********************]  1 of 1 completed\n"
          ],
          "name": "stdout"
        },
        {
          "output_type": "execute_result",
          "data": {
            "text/html": [
              "<div>\n",
              "<style scoped>\n",
              "    .dataframe tbody tr th:only-of-type {\n",
              "        vertical-align: middle;\n",
              "    }\n",
              "\n",
              "    .dataframe tbody tr th {\n",
              "        vertical-align: top;\n",
              "    }\n",
              "\n",
              "    .dataframe thead th {\n",
              "        text-align: right;\n",
              "    }\n",
              "</style>\n",
              "<table border=\"1\" class=\"dataframe\">\n",
              "  <thead>\n",
              "    <tr style=\"text-align: right;\">\n",
              "      <th></th>\n",
              "      <th>Open</th>\n",
              "      <th>High</th>\n",
              "      <th>Low</th>\n",
              "      <th>Close</th>\n",
              "      <th>Adj Close</th>\n",
              "      <th>Volume</th>\n",
              "    </tr>\n",
              "    <tr>\n",
              "      <th>Date</th>\n",
              "      <th></th>\n",
              "      <th></th>\n",
              "      <th></th>\n",
              "      <th></th>\n",
              "      <th></th>\n",
              "      <th></th>\n",
              "    </tr>\n",
              "  </thead>\n",
              "  <tbody>\n",
              "    <tr>\n",
              "      <th>2015-01-02</th>\n",
              "      <td>2058.899902</td>\n",
              "      <td>2072.360107</td>\n",
              "      <td>2046.040039</td>\n",
              "      <td>2058.199951</td>\n",
              "      <td>2058.199951</td>\n",
              "      <td>2708700000</td>\n",
              "    </tr>\n",
              "    <tr>\n",
              "      <th>2015-01-05</th>\n",
              "      <td>2054.439941</td>\n",
              "      <td>2054.439941</td>\n",
              "      <td>2017.339966</td>\n",
              "      <td>2020.579956</td>\n",
              "      <td>2020.579956</td>\n",
              "      <td>3799120000</td>\n",
              "    </tr>\n",
              "    <tr>\n",
              "      <th>2015-01-06</th>\n",
              "      <td>2022.150024</td>\n",
              "      <td>2030.250000</td>\n",
              "      <td>1992.439941</td>\n",
              "      <td>2002.609985</td>\n",
              "      <td>2002.609985</td>\n",
              "      <td>4460110000</td>\n",
              "    </tr>\n",
              "    <tr>\n",
              "      <th>2015-01-07</th>\n",
              "      <td>2005.550049</td>\n",
              "      <td>2029.609985</td>\n",
              "      <td>2005.550049</td>\n",
              "      <td>2025.900024</td>\n",
              "      <td>2025.900024</td>\n",
              "      <td>3805480000</td>\n",
              "    </tr>\n",
              "    <tr>\n",
              "      <th>2015-01-08</th>\n",
              "      <td>2030.609985</td>\n",
              "      <td>2064.080078</td>\n",
              "      <td>2030.609985</td>\n",
              "      <td>2062.139893</td>\n",
              "      <td>2062.139893</td>\n",
              "      <td>3934010000</td>\n",
              "    </tr>\n",
              "    <tr>\n",
              "      <th>...</th>\n",
              "      <td>...</td>\n",
              "      <td>...</td>\n",
              "      <td>...</td>\n",
              "      <td>...</td>\n",
              "      <td>...</td>\n",
              "      <td>...</td>\n",
              "    </tr>\n",
              "    <tr>\n",
              "      <th>2020-12-24</th>\n",
              "      <td>3694.030029</td>\n",
              "      <td>3703.820068</td>\n",
              "      <td>3689.320068</td>\n",
              "      <td>3703.060059</td>\n",
              "      <td>3703.060059</td>\n",
              "      <td>1885090000</td>\n",
              "    </tr>\n",
              "    <tr>\n",
              "      <th>2020-12-28</th>\n",
              "      <td>3723.030029</td>\n",
              "      <td>3740.510010</td>\n",
              "      <td>3723.030029</td>\n",
              "      <td>3735.360107</td>\n",
              "      <td>3735.360107</td>\n",
              "      <td>3527460000</td>\n",
              "    </tr>\n",
              "    <tr>\n",
              "      <th>2020-12-29</th>\n",
              "      <td>3750.010010</td>\n",
              "      <td>3756.120117</td>\n",
              "      <td>3723.310059</td>\n",
              "      <td>3727.040039</td>\n",
              "      <td>3727.040039</td>\n",
              "      <td>3387030000</td>\n",
              "    </tr>\n",
              "    <tr>\n",
              "      <th>2020-12-30</th>\n",
              "      <td>3736.189941</td>\n",
              "      <td>3744.629883</td>\n",
              "      <td>3730.209961</td>\n",
              "      <td>3732.040039</td>\n",
              "      <td>3732.040039</td>\n",
              "      <td>3145200000</td>\n",
              "    </tr>\n",
              "    <tr>\n",
              "      <th>2020-12-31</th>\n",
              "      <td>3733.270020</td>\n",
              "      <td>3760.199951</td>\n",
              "      <td>3726.879883</td>\n",
              "      <td>3756.070068</td>\n",
              "      <td>3756.070068</td>\n",
              "      <td>3172510000</td>\n",
              "    </tr>\n",
              "  </tbody>\n",
              "</table>\n",
              "<p>1511 rows × 6 columns</p>\n",
              "</div>"
            ],
            "text/plain": [
              "                   Open         High  ...    Adj Close      Volume\n",
              "Date                                  ...                         \n",
              "2015-01-02  2058.899902  2072.360107  ...  2058.199951  2708700000\n",
              "2015-01-05  2054.439941  2054.439941  ...  2020.579956  3799120000\n",
              "2015-01-06  2022.150024  2030.250000  ...  2002.609985  4460110000\n",
              "2015-01-07  2005.550049  2029.609985  ...  2025.900024  3805480000\n",
              "2015-01-08  2030.609985  2064.080078  ...  2062.139893  3934010000\n",
              "...                 ...          ...  ...          ...         ...\n",
              "2020-12-24  3694.030029  3703.820068  ...  3703.060059  1885090000\n",
              "2020-12-28  3723.030029  3740.510010  ...  3735.360107  3527460000\n",
              "2020-12-29  3750.010010  3756.120117  ...  3727.040039  3387030000\n",
              "2020-12-30  3736.189941  3744.629883  ...  3732.040039  3145200000\n",
              "2020-12-31  3733.270020  3760.199951  ...  3756.070068  3172510000\n",
              "\n",
              "[1511 rows x 6 columns]"
            ]
          },
          "metadata": {},
          "execution_count": 3
        }
      ]
    },
    {
      "cell_type": "code",
      "metadata": {
        "id": "BMAetouUW71T"
      },
      "source": [
        ""
      ],
      "execution_count": null,
      "outputs": []
    },
    {
      "cell_type": "code",
      "metadata": {
        "id": "K6WXu4qLp56D",
        "colab": {
          "base_uri": "https://localhost:8080/",
          "height": 452
        },
        "outputId": "809918bb-f002-424b-a15b-0e328f438722"
      },
      "source": [
        "sp[\"logret\"]=np.log(sp[\"Adj Close\"]/sp[\"Adj Close\"].shift(1))\n",
        "sp\n",
        "sp[\"retar\"]=sp[\"Adj Close\"]/sp[\"Adj Close\"].shift(1)-1\n",
        "sp"
      ],
      "execution_count": null,
      "outputs": [
        {
          "output_type": "execute_result",
          "data": {
            "text/html": [
              "<div>\n",
              "<style scoped>\n",
              "    .dataframe tbody tr th:only-of-type {\n",
              "        vertical-align: middle;\n",
              "    }\n",
              "\n",
              "    .dataframe tbody tr th {\n",
              "        vertical-align: top;\n",
              "    }\n",
              "\n",
              "    .dataframe thead th {\n",
              "        text-align: right;\n",
              "    }\n",
              "</style>\n",
              "<table border=\"1\" class=\"dataframe\">\n",
              "  <thead>\n",
              "    <tr style=\"text-align: right;\">\n",
              "      <th></th>\n",
              "      <th>Open</th>\n",
              "      <th>High</th>\n",
              "      <th>Low</th>\n",
              "      <th>Close</th>\n",
              "      <th>Adj Close</th>\n",
              "      <th>Volume</th>\n",
              "      <th>logret</th>\n",
              "      <th>retar</th>\n",
              "    </tr>\n",
              "    <tr>\n",
              "      <th>Date</th>\n",
              "      <th></th>\n",
              "      <th></th>\n",
              "      <th></th>\n",
              "      <th></th>\n",
              "      <th></th>\n",
              "      <th></th>\n",
              "      <th></th>\n",
              "      <th></th>\n",
              "    </tr>\n",
              "  </thead>\n",
              "  <tbody>\n",
              "    <tr>\n",
              "      <th>2015-01-02</th>\n",
              "      <td>2058.899902</td>\n",
              "      <td>2072.360107</td>\n",
              "      <td>2046.040039</td>\n",
              "      <td>2058.199951</td>\n",
              "      <td>2058.199951</td>\n",
              "      <td>2708700000</td>\n",
              "      <td>NaN</td>\n",
              "      <td>NaN</td>\n",
              "    </tr>\n",
              "    <tr>\n",
              "      <th>2015-01-05</th>\n",
              "      <td>2054.439941</td>\n",
              "      <td>2054.439941</td>\n",
              "      <td>2017.339966</td>\n",
              "      <td>2020.579956</td>\n",
              "      <td>2020.579956</td>\n",
              "      <td>3799120000</td>\n",
              "      <td>-0.018447</td>\n",
              "      <td>-0.018278</td>\n",
              "    </tr>\n",
              "    <tr>\n",
              "      <th>2015-01-06</th>\n",
              "      <td>2022.150024</td>\n",
              "      <td>2030.250000</td>\n",
              "      <td>1992.439941</td>\n",
              "      <td>2002.609985</td>\n",
              "      <td>2002.609985</td>\n",
              "      <td>4460110000</td>\n",
              "      <td>-0.008933</td>\n",
              "      <td>-0.008893</td>\n",
              "    </tr>\n",
              "    <tr>\n",
              "      <th>2015-01-07</th>\n",
              "      <td>2005.550049</td>\n",
              "      <td>2029.609985</td>\n",
              "      <td>2005.550049</td>\n",
              "      <td>2025.900024</td>\n",
              "      <td>2025.900024</td>\n",
              "      <td>3805480000</td>\n",
              "      <td>0.011563</td>\n",
              "      <td>0.011630</td>\n",
              "    </tr>\n",
              "    <tr>\n",
              "      <th>2015-01-08</th>\n",
              "      <td>2030.609985</td>\n",
              "      <td>2064.080078</td>\n",
              "      <td>2030.609985</td>\n",
              "      <td>2062.139893</td>\n",
              "      <td>2062.139893</td>\n",
              "      <td>3934010000</td>\n",
              "      <td>0.017730</td>\n",
              "      <td>0.017888</td>\n",
              "    </tr>\n",
              "    <tr>\n",
              "      <th>...</th>\n",
              "      <td>...</td>\n",
              "      <td>...</td>\n",
              "      <td>...</td>\n",
              "      <td>...</td>\n",
              "      <td>...</td>\n",
              "      <td>...</td>\n",
              "      <td>...</td>\n",
              "      <td>...</td>\n",
              "    </tr>\n",
              "    <tr>\n",
              "      <th>2020-12-24</th>\n",
              "      <td>3694.030029</td>\n",
              "      <td>3703.820068</td>\n",
              "      <td>3689.320068</td>\n",
              "      <td>3703.060059</td>\n",
              "      <td>3703.060059</td>\n",
              "      <td>1885090000</td>\n",
              "      <td>0.003530</td>\n",
              "      <td>0.003537</td>\n",
              "    </tr>\n",
              "    <tr>\n",
              "      <th>2020-12-28</th>\n",
              "      <td>3723.030029</td>\n",
              "      <td>3740.510010</td>\n",
              "      <td>3723.030029</td>\n",
              "      <td>3735.360107</td>\n",
              "      <td>3735.360107</td>\n",
              "      <td>3527460000</td>\n",
              "      <td>0.008685</td>\n",
              "      <td>0.008723</td>\n",
              "    </tr>\n",
              "    <tr>\n",
              "      <th>2020-12-29</th>\n",
              "      <td>3750.010010</td>\n",
              "      <td>3756.120117</td>\n",
              "      <td>3723.310059</td>\n",
              "      <td>3727.040039</td>\n",
              "      <td>3727.040039</td>\n",
              "      <td>3387030000</td>\n",
              "      <td>-0.002230</td>\n",
              "      <td>-0.002227</td>\n",
              "    </tr>\n",
              "    <tr>\n",
              "      <th>2020-12-30</th>\n",
              "      <td>3736.189941</td>\n",
              "      <td>3744.629883</td>\n",
              "      <td>3730.209961</td>\n",
              "      <td>3732.040039</td>\n",
              "      <td>3732.040039</td>\n",
              "      <td>3145200000</td>\n",
              "      <td>0.001341</td>\n",
              "      <td>0.001342</td>\n",
              "    </tr>\n",
              "    <tr>\n",
              "      <th>2020-12-31</th>\n",
              "      <td>3733.270020</td>\n",
              "      <td>3760.199951</td>\n",
              "      <td>3726.879883</td>\n",
              "      <td>3756.070068</td>\n",
              "      <td>3756.070068</td>\n",
              "      <td>3172510000</td>\n",
              "      <td>0.006418</td>\n",
              "      <td>0.006439</td>\n",
              "    </tr>\n",
              "  </tbody>\n",
              "</table>\n",
              "<p>1511 rows × 8 columns</p>\n",
              "</div>"
            ],
            "text/plain": [
              "                   Open         High  ...    logret     retar\n",
              "Date                                  ...                    \n",
              "2015-01-02  2058.899902  2072.360107  ...       NaN       NaN\n",
              "2015-01-05  2054.439941  2054.439941  ... -0.018447 -0.018278\n",
              "2015-01-06  2022.150024  2030.250000  ... -0.008933 -0.008893\n",
              "2015-01-07  2005.550049  2029.609985  ...  0.011563  0.011630\n",
              "2015-01-08  2030.609985  2064.080078  ...  0.017730  0.017888\n",
              "...                 ...          ...  ...       ...       ...\n",
              "2020-12-24  3694.030029  3703.820068  ...  0.003530  0.003537\n",
              "2020-12-28  3723.030029  3740.510010  ...  0.008685  0.008723\n",
              "2020-12-29  3750.010010  3756.120117  ... -0.002230 -0.002227\n",
              "2020-12-30  3736.189941  3744.629883  ...  0.001341  0.001342\n",
              "2020-12-31  3733.270020  3760.199951  ...  0.006418  0.006439\n",
              "\n",
              "[1511 rows x 8 columns]"
            ]
          },
          "metadata": {},
          "execution_count": 4
        }
      ]
    },
    {
      "cell_type": "code",
      "metadata": {
        "colab": {
          "base_uri": "https://localhost:8080/"
        },
        "id": "-_ay_Bd2AIP2",
        "outputId": "95c2afa1-0237-41fe-b453-9b21d4bd5fdb"
      },
      "source": [
        "np.mean(sp.logret)*252"
      ],
      "execution_count": null,
      "outputs": [
        {
          "output_type": "execute_result",
          "data": {
            "text/plain": [
              "0.10038969485559711"
            ]
          },
          "metadata": {},
          "execution_count": 10
        }
      ]
    },
    {
      "cell_type": "code",
      "metadata": {
        "id": "LmOEVFx4slG8",
        "colab": {
          "base_uri": "https://localhost:8080/"
        },
        "outputId": "254514e3-ab31-40f2-8570-9b20be19bf53"
      },
      "source": [
        "\n",
        "np.mean(sp.retar)*252"
      ],
      "execution_count": null,
      "outputs": [
        {
          "output_type": "execute_result",
          "data": {
            "text/plain": [
              "0.11792710181217793"
            ]
          },
          "metadata": {},
          "execution_count": 11
        }
      ]
    },
    {
      "cell_type": "code",
      "metadata": {
        "id": "SMDF5wfptFXz",
        "colab": {
          "base_uri": "https://localhost:8080/"
        },
        "outputId": "77cb857e-16be-499b-f157-f656b505a7bb"
      },
      "source": [
        "np.std(sp.logret)*252"
      ],
      "execution_count": null,
      "outputs": [
        {
          "output_type": "execute_result",
          "data": {
            "text/plain": [
              "2.976485752390623"
            ]
          },
          "metadata": {},
          "execution_count": 12
        }
      ]
    },
    {
      "cell_type": "code",
      "metadata": {
        "colab": {
          "base_uri": "https://localhost:8080/"
        },
        "id": "1wkGsq0OdBA1",
        "outputId": "90e2073b-61e1-4fa2-88f1-a2807d987bc0"
      },
      "source": [
        "np.std(sp.retar)*np.sqrt(252)\n"
      ],
      "execution_count": null,
      "outputs": [
        {
          "output_type": "execute_result",
          "data": {
            "text/plain": [
              "0.18658442679855522"
            ]
          },
          "metadata": {},
          "execution_count": 13
        }
      ]
    },
    {
      "cell_type": "code",
      "metadata": {
        "id": "CvXqq6kn0c8m",
        "colab": {
          "base_uri": "https://localhost:8080/"
        },
        "outputId": "0c75c95a-0a61-43c2-d398-7ea1f244feb7"
      },
      "source": [
        "np.std(sp.logret)*np.sqrt(252)"
      ],
      "execution_count": null,
      "outputs": [
        {
          "output_type": "execute_result",
          "data": {
            "text/plain": [
              "0.18750097813696584"
            ]
          },
          "metadata": {},
          "execution_count": 8
        }
      ]
    },
    {
      "cell_type": "code",
      "metadata": {
        "id": "gDePdYWo0iB3",
        "colab": {
          "base_uri": "https://localhost:8080/",
          "height": 282
        },
        "outputId": "ec891184-34d7-4c03-876a-4ce6c96e20e8"
      },
      "source": [
        "plt.plot(sp[\"Adj Close\"])"
      ],
      "execution_count": null,
      "outputs": [
        {
          "output_type": "execute_result",
          "data": {
            "text/plain": [
              "[<matplotlib.lines.Line2D at 0x7f7b51033090>]"
            ]
          },
          "metadata": {
            "tags": []
          },
          "execution_count": 29
        },
        {
          "output_type": "display_data",
          "data": {
            "image/png": "[encoded data removed]",
            "text/plain": [
              "<Figure size 432x288 with 1 Axes>"
            ]
          },
          "metadata": {
            "tags": [],
            "needs_background": "light"
          }
        }
      ]
    },
    {
      "cell_type": "code",
      "metadata": {
        "colab": {
          "base_uri": "https://localhost:8080/",
          "height": 282
        },
        "id": "vO4ld_eYDtPw",
        "outputId": "b3f2fedd-438a-47ac-ecef-08f7633e379a"
      },
      "source": [
        "plt.plot((sp[\"logret\"]-sp[\"logret\"].shift(1))**2)"
      ],
      "execution_count": null,
      "outputs": [
        {
          "output_type": "execute_result",
          "data": {
            "text/plain": [
              "[<matplotlib.lines.Line2D at 0x7f7b515a8f90>]"
            ]
          },
          "metadata": {
            "tags": []
          },
          "execution_count": 28
        },
        {
          "output_type": "display_data",
          "data": {
            "image/png": "[encoded data removed]",
            "text/plain": [
              "<Figure size 432x288 with 1 Axes>"
            ]
          },
          "metadata": {
            "tags": [],
            "needs_background": "light"
          }
        }
      ]
    }
  ]
}