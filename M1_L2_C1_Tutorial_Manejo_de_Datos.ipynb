{
  "nbformat": 4,
  "nbformat_minor": 0,
  "metadata": {
    "colab": {
      "name": "M1_L2_C1 - Tutorial Manejo de Datos.ipynb",
      "provenance": [],
      "collapsed_sections": [],
      "include_colab_link": true
    },
    "kernelspec": {
      "name": "python3",
      "display_name": "Python 3"
    },
    "language_info": {
      "name": "python"
    }
  },
  "cells": [
    {
      "cell_type": "markdown",
      "metadata": {
        "id": "view-in-github",
        "colab_type": "text"
      },
      "source": [
        "<a href=\"https://colab.research.google.com/github/algoritmosdenegociacion/modulo1/blob/main/M1_L2_C1_Tutorial_Manejo_de_Datos.ipynb\" target=\"_parent\"><img src=\"https://colab.research.google.com/assets/colab-badge.svg\" alt=\"Open In Colab\"/></a>"
      ]
    },
    {
      "cell_type": "markdown",
      "metadata": {
        "id": "Mv3-tparkVRq"
      },
      "source": [
        "# Algoritmos de Negociación basados en Machine Learning - Módulo 1\n",
        "- Sergio Andrés Cabrales, Ph.D., Universidad de los Andes \n",
        "- Juan Pablo Cortés, T.A., Universidad de los Andes\n",
        "\n",
        "https://github.com/algoritmosdenegociacion/"
      ]
    },
    {
      "cell_type": "markdown",
      "metadata": {
        "id": "gCCL_oJ7iKoo"
      },
      "source": [
        "## 1. Carga de librerías, funciones y APIs necesarias."
      ]
    },
    {
      "cell_type": "markdown",
      "metadata": {
        "id": "uIIxggNkivdG"
      },
      "source": [
        "#### 1.1. Instalan las librerías que no incluye Google Colab"
      ]
    },
    {
      "cell_type": "code",
      "metadata": {
        "id": "9TQ--VKpVEap"
      },
      "source": [
        "pip install yfinance"
      ],
      "execution_count": null,
      "outputs": []
    },
    {
      "cell_type": "markdown",
      "metadata": {
        "id": "T9-8grYyiuTA"
      },
      "source": [
        "#### 1.2. Se cargan las librerías necesarias"
      ]
    },
    {
      "cell_type": "code",
      "metadata": {
        "id": "FkdQfx7Vf2vt"
      },
      "source": [
        "# Funciones numéricas adicionales\n",
        "import numpy as np\n",
        "\n",
        "# Lectura de datos y manejo de Data-sets\n",
        "import pandas as pd\n",
        "\n",
        "# Datos\n",
        "import yfinance as yfin\n",
        "\n",
        "# Gráficos \n",
        "import matplotlib.pyplot as plt\n",
        "\n",
        "# Manejo de archivos en Google Colab\n",
        "from google.colab import files \n"
      ],
      "execution_count": null,
      "outputs": []
    },
    {
      "cell_type": "markdown",
      "metadata": {
        "id": "VdKMQ8c7kBN6"
      },
      "source": [
        "## 2. Obtención de datos históricos"
      ]
    },
    {
      "cell_type": "markdown",
      "metadata": {
        "id": "PE07DKc4LYls"
      },
      "source": [
        "#### 2.1. Descarga de datos desde Yahoo Finance"
      ]
    },
    {
      "cell_type": "markdown",
      "metadata": {
        "id": "AZLxWhOzYKu6"
      },
      "source": [
        "https://finance.yahoo.com/\n"
      ]
    },
    {
      "cell_type": "code",
      "metadata": {
        "colab": {
          "base_uri": "https://localhost:8080/",
          "height": 467
        },
        "id": "5TiGc5x8LGpb",
        "outputId": "53b4adca-1a41-456e-d484-f8d46ad1e2ef"
      },
      "source": [
        "# Descargamos datos de 2 años de la acción de Apple.\n",
        "df = yfin.download('AAPL', data_source='yahoo', start='2019-01-01', end='2021-01-01')\n",
        "df"
      ],
      "execution_count": null,
      "outputs": [
        {
          "output_type": "stream",
          "text": [
            "\r[*********************100%***********************]  1 of 1 completed\n"
          ],
          "name": "stdout"
        },
        {
          "output_type": "execute_result",
          "data": {
            "text/html": [
              "<div>\n",
              "<style scoped>\n",
              "    .dataframe tbody tr th:only-of-type {\n",
              "        vertical-align: middle;\n",
              "    }\n",
              "\n",
              "    .dataframe tbody tr th {\n",
              "        vertical-align: top;\n",
              "    }\n",
              "\n",
              "    .dataframe thead th {\n",
              "        text-align: right;\n",
              "    }\n",
              "</style>\n",
              "<table border=\"1\" class=\"dataframe\">\n",
              "  <thead>\n",
              "    <tr style=\"text-align: right;\">\n",
              "      <th></th>\n",
              "      <th>Open</th>\n",
              "      <th>High</th>\n",
              "      <th>Low</th>\n",
              "      <th>Close</th>\n",
              "      <th>Adj Close</th>\n",
              "      <th>Volume</th>\n",
              "    </tr>\n",
              "    <tr>\n",
              "      <th>Date</th>\n",
              "      <th></th>\n",
              "      <th></th>\n",
              "      <th></th>\n",
              "      <th></th>\n",
              "      <th></th>\n",
              "      <th></th>\n",
              "    </tr>\n",
              "  </thead>\n",
              "  <tbody>\n",
              "    <tr>\n",
              "      <th>2019-01-02</th>\n",
              "      <td>38.722500</td>\n",
              "      <td>39.712502</td>\n",
              "      <td>38.557499</td>\n",
              "      <td>39.480000</td>\n",
              "      <td>38.439735</td>\n",
              "      <td>148158800</td>\n",
              "    </tr>\n",
              "    <tr>\n",
              "      <th>2019-01-03</th>\n",
              "      <td>35.994999</td>\n",
              "      <td>36.430000</td>\n",
              "      <td>35.500000</td>\n",
              "      <td>35.547501</td>\n",
              "      <td>34.610851</td>\n",
              "      <td>365248800</td>\n",
              "    </tr>\n",
              "    <tr>\n",
              "      <th>2019-01-04</th>\n",
              "      <td>36.132500</td>\n",
              "      <td>37.137501</td>\n",
              "      <td>35.950001</td>\n",
              "      <td>37.064999</td>\n",
              "      <td>36.088364</td>\n",
              "      <td>234428400</td>\n",
              "    </tr>\n",
              "    <tr>\n",
              "      <th>2019-01-07</th>\n",
              "      <td>37.174999</td>\n",
              "      <td>37.207500</td>\n",
              "      <td>36.474998</td>\n",
              "      <td>36.982498</td>\n",
              "      <td>36.008041</td>\n",
              "      <td>219111200</td>\n",
              "    </tr>\n",
              "    <tr>\n",
              "      <th>2019-01-08</th>\n",
              "      <td>37.389999</td>\n",
              "      <td>37.955002</td>\n",
              "      <td>37.130001</td>\n",
              "      <td>37.687500</td>\n",
              "      <td>36.694466</td>\n",
              "      <td>164101200</td>\n",
              "    </tr>\n",
              "    <tr>\n",
              "      <th>...</th>\n",
              "      <td>...</td>\n",
              "      <td>...</td>\n",
              "      <td>...</td>\n",
              "      <td>...</td>\n",
              "      <td>...</td>\n",
              "      <td>...</td>\n",
              "    </tr>\n",
              "    <tr>\n",
              "      <th>2020-12-24</th>\n",
              "      <td>131.320007</td>\n",
              "      <td>133.460007</td>\n",
              "      <td>131.100006</td>\n",
              "      <td>131.970001</td>\n",
              "      <td>131.549637</td>\n",
              "      <td>54930100</td>\n",
              "    </tr>\n",
              "    <tr>\n",
              "      <th>2020-12-28</th>\n",
              "      <td>133.990005</td>\n",
              "      <td>137.339996</td>\n",
              "      <td>133.509995</td>\n",
              "      <td>136.690002</td>\n",
              "      <td>136.254608</td>\n",
              "      <td>124486200</td>\n",
              "    </tr>\n",
              "    <tr>\n",
              "      <th>2020-12-29</th>\n",
              "      <td>138.050003</td>\n",
              "      <td>138.789993</td>\n",
              "      <td>134.339996</td>\n",
              "      <td>134.869995</td>\n",
              "      <td>134.440399</td>\n",
              "      <td>121047300</td>\n",
              "    </tr>\n",
              "    <tr>\n",
              "      <th>2020-12-30</th>\n",
              "      <td>135.580002</td>\n",
              "      <td>135.990005</td>\n",
              "      <td>133.399994</td>\n",
              "      <td>133.720001</td>\n",
              "      <td>133.294067</td>\n",
              "      <td>96452100</td>\n",
              "    </tr>\n",
              "    <tr>\n",
              "      <th>2020-12-31</th>\n",
              "      <td>134.080002</td>\n",
              "      <td>134.740005</td>\n",
              "      <td>131.720001</td>\n",
              "      <td>132.690002</td>\n",
              "      <td>132.267349</td>\n",
              "      <td>99116600</td>\n",
              "    </tr>\n",
              "  </tbody>\n",
              "</table>\n",
              "<p>505 rows × 6 columns</p>\n",
              "</div>"
            ],
            "text/plain": [
              "                  Open        High  ...   Adj Close     Volume\n",
              "Date                                ...                       \n",
              "2019-01-02   38.722500   39.712502  ...   38.439735  148158800\n",
              "2019-01-03   35.994999   36.430000  ...   34.610851  365248800\n",
              "2019-01-04   36.132500   37.137501  ...   36.088364  234428400\n",
              "2019-01-07   37.174999   37.207500  ...   36.008041  219111200\n",
              "2019-01-08   37.389999   37.955002  ...   36.694466  164101200\n",
              "...                ...         ...  ...         ...        ...\n",
              "2020-12-24  131.320007  133.460007  ...  131.549637   54930100\n",
              "2020-12-28  133.990005  137.339996  ...  136.254608  124486200\n",
              "2020-12-29  138.050003  138.789993  ...  134.440399  121047300\n",
              "2020-12-30  135.580002  135.990005  ...  133.294067   96452100\n",
              "2020-12-31  134.080002  134.740005  ...  132.267349   99116600\n",
              "\n",
              "[505 rows x 6 columns]"
            ]
          },
          "metadata": {
            "tags": []
          },
          "execution_count": 6
        }
      ]
    },
    {
      "cell_type": "markdown",
      "metadata": {
        "id": "kWYDsZ15VGuB"
      },
      "source": [
        "#### 2.2. Exportar datos como .csv"
      ]
    },
    {
      "cell_type": "code",
      "metadata": {
        "id": "yMs-kAHoLGi3",
        "colab": {
          "base_uri": "https://localhost:8080/",
          "height": 17
        },
        "outputId": "724cfec2-690b-413a-f3ee-f001e489e755"
      },
      "source": [
        "# Guardar .csv en la nube\n",
        "df.to_csv('AAPL.csv', encoding='utf-8')\n",
        "\n",
        "# Descargar el .csv creado\n",
        "files.download('AAPL.csv')"
      ],
      "execution_count": null,
      "outputs": [
        {
          "output_type": "display_data",
          "data": {
            "application/javascript": [
              "\n",
              "    async function download(id, filename, size) {\n",
              "      if (!google.colab.kernel.accessAllowed) {\n",
              "        return;\n",
              "      }\n",
              "      const div = document.createElement('div');\n",
              "      const label = document.createElement('label');\n",
              "      label.textContent = `Downloading \"${filename}\": `;\n",
              "      div.appendChild(label);\n",
              "      const progress = document.createElement('progress');\n",
              "      progress.max = size;\n",
              "      div.appendChild(progress);\n",
              "      document.body.appendChild(div);\n",
              "\n",
              "      const buffers = [];\n",
              "      let downloaded = 0;\n",
              "\n",
              "      const channel = await google.colab.kernel.comms.open(id);\n",
              "      // Send a message to notify the kernel that we're ready.\n",
              "      channel.send({})\n",
              "\n",
              "      for await (const message of channel.messages) {\n",
              "        // Send a message to notify the kernel that we're ready.\n",
              "        channel.send({})\n",
              "        if (message.buffers) {\n",
              "          for (const buffer of message.buffers) {\n",
              "            buffers.push(buffer);\n",
              "            downloaded += buffer.byteLength;\n",
              "            progress.value = downloaded;\n",
              "          }\n",
              "        }\n",
              "      }\n",
              "      const blob = new Blob(buffers, {type: 'application/binary'});\n",
              "      const a = document.createElement('a');\n",
              "      a.href = window.URL.createObjectURL(blob);\n",
              "      a.download = filename;\n",
              "      div.appendChild(a);\n",
              "      a.click();\n",
              "      div.remove();\n",
              "    }\n",
              "  "
            ],
            "text/plain": [
              "<IPython.core.display.Javascript object>"
            ]
          },
          "metadata": {
            "tags": []
          }
        },
        {
          "output_type": "display_data",
          "data": {
            "application/javascript": [
              "download(\"download_f805dd01-58b0-4359-be82-c4610796e16c\", \"AAPL.csv\", 54527)"
            ],
            "text/plain": [
              "<IPython.core.display.Javascript object>"
            ]
          },
          "metadata": {
            "tags": []
          }
        }
      ]
    },
    {
      "cell_type": "markdown",
      "metadata": {
        "id": "BJRV6YiOWYMD"
      },
      "source": [
        "#### 2.3. Subir un .csv local"
      ]
    },
    {
      "cell_type": "code",
      "metadata": {
        "colab": {
          "base_uri": "https://localhost:8080/",
          "height": 180
        },
        "id": "N6TmODqgWmBq",
        "outputId": "f50955fe-9351-4d25-f5a9-ac27cb41a7b6"
      },
      "source": [
        "# Seleccionar el archivo para subir\n",
        "files.upload()"
      ],
      "execution_count": null,
      "outputs": [
        {
          "output_type": "error",
          "ename": "NameError",
          "evalue": "ignored",
          "traceback": [
            "\u001b[0;31m---------------------------------------------------------------------------\u001b[0m",
            "\u001b[0;31mNameError\u001b[0m                                 Traceback (most recent call last)",
            "\u001b[0;32m<ipython-input-1-c37bc7dfb525>\u001b[0m in \u001b[0;36m<module>\u001b[0;34m()\u001b[0m\n\u001b[1;32m      1\u001b[0m \u001b[0;31m# Seleccionar el archivo para subir\u001b[0m\u001b[0;34m\u001b[0m\u001b[0;34m\u001b[0m\u001b[0;34m\u001b[0m\u001b[0m\n\u001b[0;32m----> 2\u001b[0;31m \u001b[0mfiles\u001b[0m\u001b[0;34m.\u001b[0m\u001b[0mupload\u001b[0m\u001b[0;34m(\u001b[0m\u001b[0;34m)\u001b[0m\u001b[0;34m\u001b[0m\u001b[0;34m\u001b[0m\u001b[0m\n\u001b[0m",
            "\u001b[0;31mNameError\u001b[0m: name 'files' is not defined"
          ]
        }
      ]
    },
    {
      "cell_type": "markdown",
      "metadata": {
        "id": "TnQ_-iJWWsot"
      },
      "source": [
        "#### 2.4. Cargar datos desde un .csv almacenado en Colab"
      ]
    },
    {
      "cell_type": "code",
      "metadata": {
        "id": "UfIGk85qLFlN",
        "colab": {
          "base_uri": "https://localhost:8080/",
          "height": 450
        },
        "outputId": "e7be6465-1637-426e-b62b-175eb28f96cc"
      },
      "source": [
        "# Lee el archivo en la nube y utiliza Date como índice\n",
        "df2 = pd.ExcelFile('AAPL.csv')\n",
        "df2['Date'] = pd.to_datetime(df2['Date'])\n",
        "df2.set_index('Date', inplace=True)\n",
        "df2"
      ],
      "execution_count": null,
      "outputs": [
        {
          "output_type": "execute_result",
          "data": {
            "text/html": [
              "<div>\n",
              "<style scoped>\n",
              "    .dataframe tbody tr th:only-of-type {\n",
              "        vertical-align: middle;\n",
              "    }\n",
              "\n",
              "    .dataframe tbody tr th {\n",
              "        vertical-align: top;\n",
              "    }\n",
              "\n",
              "    .dataframe thead th {\n",
              "        text-align: right;\n",
              "    }\n",
              "</style>\n",
              "<table border=\"1\" class=\"dataframe\">\n",
              "  <thead>\n",
              "    <tr style=\"text-align: right;\">\n",
              "      <th></th>\n",
              "      <th>Open</th>\n",
              "      <th>High</th>\n",
              "      <th>Low</th>\n",
              "      <th>Close</th>\n",
              "      <th>Adj Close</th>\n",
              "      <th>Volume</th>\n",
              "    </tr>\n",
              "    <tr>\n",
              "      <th>Date</th>\n",
              "      <th></th>\n",
              "      <th></th>\n",
              "      <th></th>\n",
              "      <th></th>\n",
              "      <th></th>\n",
              "      <th></th>\n",
              "    </tr>\n",
              "  </thead>\n",
              "  <tbody>\n",
              "    <tr>\n",
              "      <th>2019-01-02</th>\n",
              "      <td>38.722500</td>\n",
              "      <td>39.712502</td>\n",
              "      <td>38.557499</td>\n",
              "      <td>39.480000</td>\n",
              "      <td>38.439735</td>\n",
              "      <td>148158800</td>\n",
              "    </tr>\n",
              "    <tr>\n",
              "      <th>2019-01-03</th>\n",
              "      <td>35.994999</td>\n",
              "      <td>36.430000</td>\n",
              "      <td>35.500000</td>\n",
              "      <td>35.547501</td>\n",
              "      <td>34.610851</td>\n",
              "      <td>365248800</td>\n",
              "    </tr>\n",
              "    <tr>\n",
              "      <th>2019-01-04</th>\n",
              "      <td>36.132500</td>\n",
              "      <td>37.137501</td>\n",
              "      <td>35.950001</td>\n",
              "      <td>37.064999</td>\n",
              "      <td>36.088364</td>\n",
              "      <td>234428400</td>\n",
              "    </tr>\n",
              "    <tr>\n",
              "      <th>2019-01-07</th>\n",
              "      <td>37.174999</td>\n",
              "      <td>37.207500</td>\n",
              "      <td>36.474998</td>\n",
              "      <td>36.982498</td>\n",
              "      <td>36.008041</td>\n",
              "      <td>219111200</td>\n",
              "    </tr>\n",
              "    <tr>\n",
              "      <th>2019-01-08</th>\n",
              "      <td>37.389999</td>\n",
              "      <td>37.955002</td>\n",
              "      <td>37.130001</td>\n",
              "      <td>37.687500</td>\n",
              "      <td>36.694466</td>\n",
              "      <td>164101200</td>\n",
              "    </tr>\n",
              "    <tr>\n",
              "      <th>...</th>\n",
              "      <td>...</td>\n",
              "      <td>...</td>\n",
              "      <td>...</td>\n",
              "      <td>...</td>\n",
              "      <td>...</td>\n",
              "      <td>...</td>\n",
              "    </tr>\n",
              "    <tr>\n",
              "      <th>2020-12-24</th>\n",
              "      <td>131.320007</td>\n",
              "      <td>133.460007</td>\n",
              "      <td>131.100006</td>\n",
              "      <td>131.970001</td>\n",
              "      <td>131.549637</td>\n",
              "      <td>54930100</td>\n",
              "    </tr>\n",
              "    <tr>\n",
              "      <th>2020-12-28</th>\n",
              "      <td>133.990005</td>\n",
              "      <td>137.339996</td>\n",
              "      <td>133.509995</td>\n",
              "      <td>136.690002</td>\n",
              "      <td>136.254608</td>\n",
              "      <td>124486200</td>\n",
              "    </tr>\n",
              "    <tr>\n",
              "      <th>2020-12-29</th>\n",
              "      <td>138.050003</td>\n",
              "      <td>138.789993</td>\n",
              "      <td>134.339996</td>\n",
              "      <td>134.869995</td>\n",
              "      <td>134.440399</td>\n",
              "      <td>121047300</td>\n",
              "    </tr>\n",
              "    <tr>\n",
              "      <th>2020-12-30</th>\n",
              "      <td>135.580002</td>\n",
              "      <td>135.990005</td>\n",
              "      <td>133.399994</td>\n",
              "      <td>133.720001</td>\n",
              "      <td>133.294067</td>\n",
              "      <td>96452100</td>\n",
              "    </tr>\n",
              "    <tr>\n",
              "      <th>2020-12-31</th>\n",
              "      <td>134.080002</td>\n",
              "      <td>134.740005</td>\n",
              "      <td>131.720001</td>\n",
              "      <td>132.690002</td>\n",
              "      <td>132.267349</td>\n",
              "      <td>99116600</td>\n",
              "    </tr>\n",
              "  </tbody>\n",
              "</table>\n",
              "<p>505 rows × 6 columns</p>\n",
              "</div>"
            ],
            "text/plain": [
              "                  Open        High  ...   Adj Close     Volume\n",
              "Date                                ...                       \n",
              "2019-01-02   38.722500   39.712502  ...   38.439735  148158800\n",
              "2019-01-03   35.994999   36.430000  ...   34.610851  365248800\n",
              "2019-01-04   36.132500   37.137501  ...   36.088364  234428400\n",
              "2019-01-07   37.174999   37.207500  ...   36.008041  219111200\n",
              "2019-01-08   37.389999   37.955002  ...   36.694466  164101200\n",
              "...                ...         ...  ...         ...        ...\n",
              "2020-12-24  131.320007  133.460007  ...  131.549637   54930100\n",
              "2020-12-28  133.990005  137.339996  ...  136.254608  124486200\n",
              "2020-12-29  138.050003  138.789993  ...  134.440399  121047300\n",
              "2020-12-30  135.580002  135.990005  ...  133.294067   96452100\n",
              "2020-12-31  134.080002  134.740005  ...  132.267349   99116600\n",
              "\n",
              "[505 rows x 6 columns]"
            ]
          },
          "metadata": {
            "tags": []
          },
          "execution_count": 18
        }
      ]
    },
    {
      "cell_type": "markdown",
      "metadata": {
        "id": "xfC9VdOxYkni"
      },
      "source": [
        "## 3. Visualización y Estadísticas Descriptivas"
      ]
    },
    {
      "cell_type": "markdown",
      "metadata": {
        "id": "zy_F6zX-Y3DL"
      },
      "source": [
        "#### 3.1. Estadísticas descriptivas"
      ]
    },
    {
      "cell_type": "code",
      "metadata": {
        "colab": {
          "base_uri": "https://localhost:8080/",
          "height": 297
        },
        "id": "_zqiTbGMY_te",
        "outputId": "b3a1dc8a-740d-4e74-bc93-45b6288553ed"
      },
      "source": [
        "#Estadísticas basicas [# de datos, media, desv. estándar, mínimo, cuantiles, máximo]\n",
        "df2.describe()"
      ],
      "execution_count": null,
      "outputs": [
        {
          "output_type": "execute_result",
          "data": {
            "text/html": [
              "<div>\n",
              "<style scoped>\n",
              "    .dataframe tbody tr th:only-of-type {\n",
              "        vertical-align: middle;\n",
              "    }\n",
              "\n",
              "    .dataframe tbody tr th {\n",
              "        vertical-align: top;\n",
              "    }\n",
              "\n",
              "    .dataframe thead th {\n",
              "        text-align: right;\n",
              "    }\n",
              "</style>\n",
              "<table border=\"1\" class=\"dataframe\">\n",
              "  <thead>\n",
              "    <tr style=\"text-align: right;\">\n",
              "      <th></th>\n",
              "      <th>Open</th>\n",
              "      <th>High</th>\n",
              "      <th>Low</th>\n",
              "      <th>Close</th>\n",
              "      <th>Adj Close</th>\n",
              "      <th>Volume</th>\n",
              "    </tr>\n",
              "  </thead>\n",
              "  <tbody>\n",
              "    <tr>\n",
              "      <th>count</th>\n",
              "      <td>505.000000</td>\n",
              "      <td>505.000000</td>\n",
              "      <td>505.000000</td>\n",
              "      <td>505.000000</td>\n",
              "      <td>505.000000</td>\n",
              "      <td>5.050000e+02</td>\n",
              "    </tr>\n",
              "    <tr>\n",
              "      <th>mean</th>\n",
              "      <td>73.660342</td>\n",
              "      <td>74.603614</td>\n",
              "      <td>72.782277</td>\n",
              "      <td>73.748386</td>\n",
              "      <td>72.987477</td>\n",
              "      <td>1.348887e+08</td>\n",
              "    </tr>\n",
              "    <tr>\n",
              "      <th>std</th>\n",
              "      <td>27.362346</td>\n",
              "      <td>27.759058</td>\n",
              "      <td>26.807426</td>\n",
              "      <td>27.280933</td>\n",
              "      <td>27.443539</td>\n",
              "      <td>6.236185e+07</td>\n",
              "    </tr>\n",
              "    <tr>\n",
              "      <th>min</th>\n",
              "      <td>35.994999</td>\n",
              "      <td>36.430000</td>\n",
              "      <td>35.500000</td>\n",
              "      <td>35.547501</td>\n",
              "      <td>34.610851</td>\n",
              "      <td>4.544800e+07</td>\n",
              "    </tr>\n",
              "    <tr>\n",
              "      <th>25%</th>\n",
              "      <td>50.790001</td>\n",
              "      <td>51.235001</td>\n",
              "      <td>50.407501</td>\n",
              "      <td>50.782501</td>\n",
              "      <td>49.872242</td>\n",
              "      <td>9.252240e+07</td>\n",
              "    </tr>\n",
              "    <tr>\n",
              "      <th>50%</th>\n",
              "      <td>66.650002</td>\n",
              "      <td>67.500000</td>\n",
              "      <td>65.862503</td>\n",
              "      <td>66.730003</td>\n",
              "      <td>65.947929</td>\n",
              "      <td>1.186556e+08</td>\n",
              "    </tr>\n",
              "    <tr>\n",
              "      <th>75%</th>\n",
              "      <td>91.279999</td>\n",
              "      <td>92.970001</td>\n",
              "      <td>90.910004</td>\n",
              "      <td>91.632500</td>\n",
              "      <td>91.019203</td>\n",
              "      <td>1.581300e+08</td>\n",
              "    </tr>\n",
              "    <tr>\n",
              "      <th>max</th>\n",
              "      <td>138.050003</td>\n",
              "      <td>138.789993</td>\n",
              "      <td>134.339996</td>\n",
              "      <td>136.690002</td>\n",
              "      <td>136.254608</td>\n",
              "      <td>4.265100e+08</td>\n",
              "    </tr>\n",
              "  </tbody>\n",
              "</table>\n",
              "</div>"
            ],
            "text/plain": [
              "             Open        High         Low       Close   Adj Close        Volume\n",
              "count  505.000000  505.000000  505.000000  505.000000  505.000000  5.050000e+02\n",
              "mean    73.660342   74.603614   72.782277   73.748386   72.987477  1.348887e+08\n",
              "std     27.362346   27.759058   26.807426   27.280933   27.443539  6.236185e+07\n",
              "min     35.994999   36.430000   35.500000   35.547501   34.610851  4.544800e+07\n",
              "25%     50.790001   51.235001   50.407501   50.782501   49.872242  9.252240e+07\n",
              "50%     66.650002   67.500000   65.862503   66.730003   65.947929  1.186556e+08\n",
              "75%     91.279999   92.970001   90.910004   91.632500   91.019203  1.581300e+08\n",
              "max    138.050003  138.789993  134.339996  136.690002  136.254608  4.265100e+08"
            ]
          },
          "metadata": {
            "tags": []
          },
          "execution_count": 19
        }
      ]
    },
    {
      "cell_type": "markdown",
      "metadata": {
        "id": "OEqPC1FgYuf0"
      },
      "source": [
        "* Count = número de datos\t\n",
        "* Mean = promedio\n",
        "* Std = desviación estándar\n",
        "* Min = mínimo \n",
        "* 25% = percentil de 25% que implica que el 25% es menor a este valor y el 75% mayor a dicho valor.\n",
        "* 50% = percentil de 50% o mediana\n",
        "* 75% = percentil de 75% \n",
        "* Max = máximo \n",
        "\n"
      ]
    },
    {
      "cell_type": "markdown",
      "metadata": {
        "id": "MqZB1TVMZYaO"
      },
      "source": [
        "#### 3.2. Gráfico de los precios históricos"
      ]
    },
    {
      "cell_type": "code",
      "metadata": {
        "colab": {
          "base_uri": "https://localhost:8080/",
          "height": 482
        },
        "id": "_ffbm61yY_rN",
        "outputId": "cd77bf0f-6751-43cb-a1fa-64fc3cbdece8"
      },
      "source": [
        "#Plot the close price on a chart\n",
        "plt.figure(figsize=(15,8))\n",
        "plt.plot(df2.Close, color = 'blue')\n",
        "plt.title('Apple [$APPL]')\n",
        "plt.xlabel('Fecha')\n",
        "plt.ylabel('Precio de cierre')\n",
        "plt.show()"
      ],
      "execution_count": null,
      "outputs": [
        {
          "output_type": "display_data",
          "data": {
            "image/png": "[encoded data removed]",
            "text/plain": [
              "<Figure size 1080x576 with 1 Axes>"
            ]
          },
          "metadata": {
            "tags": [],
            "needs_background": "light"
          }
        }
      ]
    },
    {
      "cell_type": "markdown",
      "metadata": {
        "id": "WT5NgbhqaKUs"
      },
      "source": [
        "https://github.com/trading-machine-learning/modulo1"
      ]
    }
  ]
}